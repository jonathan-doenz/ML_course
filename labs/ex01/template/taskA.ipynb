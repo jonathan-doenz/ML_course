{
 "cells": [
  {
   "cell_type": "code",
   "execution_count": 1,
   "metadata": {},
   "outputs": [
    {
     "name": "stderr",
     "output_type": "stream",
     "text": [
      "Matplotlib is building the font cache using fc-list. This may take a moment.\n"
     ]
    }
   ],
   "source": [
    "%matplotlib inline\n",
    "import numpy as np\n",
    "import matplotlib.pyplot as plt\n",
    "%load_ext autoreload\n",
    "%autoreload 2"
   ]
  },
  {
   "cell_type": "markdown",
   "metadata": {},
   "source": [
    "Data Generation\n",
    "==="
   ]
  },
  {
   "cell_type": "code",
   "execution_count": 2,
   "metadata": {},
   "outputs": [],
   "source": [
    "num_samples, num_features = 10, 5"
   ]
  },
  {
   "cell_type": "code",
   "execution_count": 3,
   "metadata": {},
   "outputs": [],
   "source": [
    "np.random.seed(10)\n",
    "data = np.random.rand(num_samples, num_features)"
   ]
  },
  {
   "cell_type": "code",
   "execution_count": 4,
   "metadata": {},
   "outputs": [
    {
     "data": {
      "text/plain": [
       "array([[0.77132064, 0.02075195, 0.63364823, 0.74880388, 0.49850701],\n",
       "       [0.22479665, 0.19806286, 0.76053071, 0.16911084, 0.08833981],\n",
       "       [0.68535982, 0.95339335, 0.00394827, 0.51219226, 0.81262096],\n",
       "       [0.61252607, 0.72175532, 0.29187607, 0.91777412, 0.71457578],\n",
       "       [0.54254437, 0.14217005, 0.37334076, 0.67413362, 0.44183317],\n",
       "       [0.43401399, 0.61776698, 0.51313824, 0.65039718, 0.60103895],\n",
       "       [0.8052232 , 0.52164715, 0.90864888, 0.31923609, 0.09045935],\n",
       "       [0.30070006, 0.11398436, 0.82868133, 0.04689632, 0.62628715],\n",
       "       [0.54758616, 0.819287  , 0.19894754, 0.8568503 , 0.35165264],\n",
       "       [0.75464769, 0.29596171, 0.88393648, 0.32551164, 0.1650159 ]])"
      ]
     },
     "execution_count": 4,
     "metadata": {},
     "output_type": "execute_result"
    }
   ],
   "source": [
    "data"
   ]
  },
  {
   "cell_type": "markdown",
   "metadata": {},
   "source": [
    "`np.random.randn` generates samples from normal standard distribution:"
   ]
  },
  {
   "cell_type": "code",
   "execution_count": 5,
   "metadata": {},
   "outputs": [
    {
     "data": {
      "text/plain": [
       "array([[-0.80459114, -0.21269764, -0.33914025],\n",
       "       [ 0.31216994,  0.56515267, -0.14742026]])"
      ]
     },
     "execution_count": 5,
     "metadata": {},
     "output_type": "execute_result"
    }
   ],
   "source": [
    "np.random.randn(2,3)"
   ]
  },
  {
   "cell_type": "markdown",
   "metadata": {},
   "source": [
    "Solution\n",
    "==="
   ]
  },
  {
   "cell_type": "code",
   "execution_count": 6,
   "metadata": {
    "collapsed": true
   },
   "outputs": [
    {
     "name": "stdout",
     "output_type": "stream",
     "text": [
      "[[0.77132064 0.02075195 0.63364823 0.74880388 0.49850701]\n",
      " [0.22479665 0.19806286 0.76053071 0.16911084 0.08833981]\n",
      " [0.68535982 0.95339335 0.00394827 0.51219226 0.81262096]\n",
      " [0.61252607 0.72175532 0.29187607 0.91777412 0.71457578]\n",
      " [0.54254437 0.14217005 0.37334076 0.67413362 0.44183317]\n",
      " [0.43401399 0.61776698 0.51313824 0.65039718 0.60103895]\n",
      " [0.8052232  0.52164715 0.90864888 0.31923609 0.09045935]\n",
      " [0.30070006 0.11398436 0.82868133 0.04689632 0.62628715]\n",
      " [0.54758616 0.819287   0.19894754 0.8568503  0.35165264]\n",
      " [0.75464769 0.29596171 0.88393648 0.32551164 0.1650159 ]]\n"
     ]
    }
   ],
   "source": [
    "print(data)"
   ]
  },
  {
   "cell_type": "code",
   "execution_count": null,
   "metadata": {},
   "outputs": [],
   "source": [
    "x = data"
   ]
  },
  {
   "cell_type": "code",
   "execution_count": 12,
   "metadata": {},
   "outputs": [
    {
     "data": {
      "text/plain": [
       "(array([0.56787186, 0.44047807, 0.53966965, 0.52209063, 0.43903307]), (5,))"
      ]
     },
     "execution_count": 12,
     "metadata": {},
     "output_type": "execute_result"
    }
   ],
   "source": [
    "x_mean = np.mean(x, axis=0)\n",
    "x_mean, x_mean.shape"
   ]
  },
  {
   "cell_type": "code",
   "execution_count": 13,
   "metadata": {},
   "outputs": [
    {
     "data": {
      "text/plain": [
       "(array([0.18880201, 0.31226926, 0.29810476, 0.28105224, 0.24648668]), (5,))"
      ]
     },
     "execution_count": 13,
     "metadata": {},
     "output_type": "execute_result"
    }
   ],
   "source": [
    "x_std = np.std(x, axis=0)\n",
    "x_std, x_std.shape"
   ]
  },
  {
   "cell_type": "code",
   "execution_count": 18,
   "metadata": {},
   "outputs": [
    {
     "data": {
      "text/plain": [
       "(1, 5)"
      ]
     },
     "execution_count": 18,
     "metadata": {},
     "output_type": "execute_result"
    }
   ],
   "source": [
    "x_std[np.newaxis, :].shape"
   ]
  },
  {
   "cell_type": "code",
   "execution_count": 23,
   "metadata": {},
   "outputs": [
    {
     "data": {
      "text/plain": [
       "True"
      ]
     },
     "execution_count": 23,
     "metadata": {},
     "output_type": "execute_result"
    }
   ],
   "source": [
    "np.allclose( np.mean(x - x_mean, axis = 0), np.zeros(x.shape) )"
   ]
  },
  {
   "cell_type": "code",
   "execution_count": 27,
   "metadata": {},
   "outputs": [
    {
     "ename": "TypeError",
     "evalue": "std() missing 1 required positional argument: 'a'",
     "output_type": "error",
     "traceback": [
      "\u001b[0;31m---------------------------------------------------------------------------\u001b[0m",
      "\u001b[0;31mTypeError\u001b[0m                                 Traceback (most recent call last)",
      "\u001b[0;32m<ipython-input-27-d6cb6c6a8b2d>\u001b[0m in \u001b[0;36m<module>\u001b[0;34m\u001b[0m\n\u001b[0;32m----> 1\u001b[0;31m \u001b[0mnp\u001b[0m\u001b[0;34m.\u001b[0m\u001b[0mstd\u001b[0m\u001b[0;34m(\u001b[0m\u001b[0;34m)\u001b[0m\u001b[0;34m\u001b[0m\u001b[0;34m\u001b[0m\u001b[0m\n\u001b[0m",
      "\u001b[0;31mTypeError\u001b[0m: std() missing 1 required positional argument: 'a'"
     ]
    }
   ],
   "source": [
    "np.std()"
   ]
  },
  {
   "cell_type": "code",
   "execution_count": null,
   "metadata": {},
   "outputs": [],
   "source": [
    "standardize()"
   ]
  },
  {
   "cell_type": "code",
   "execution_count": 1,
   "metadata": {},
   "outputs": [
    {
     "ename": "NameError",
     "evalue": "name 'data' is not defined",
     "output_type": "error",
     "traceback": [
      "\u001b[0;31m---------------------------------------------------------------------------\u001b[0m",
      "\u001b[0;31mNameError\u001b[0m                                 Traceback (most recent call last)",
      "\u001b[0;32m<ipython-input-1-c159d6e0e37d>\u001b[0m in \u001b[0;36m<module>\u001b[0;34m\u001b[0m\n\u001b[1;32m     15\u001b[0m     \u001b[0;32mreturn\u001b[0m \u001b[0;34m(\u001b[0m\u001b[0mx\u001b[0m \u001b[0;34m-\u001b[0m \u001b[0mx_mean\u001b[0m\u001b[0;34m)\u001b[0m \u001b[0;34m/\u001b[0m \u001b[0mx_std\u001b[0m\u001b[0;34m\u001b[0m\u001b[0;34m\u001b[0m\u001b[0m\n\u001b[1;32m     16\u001b[0m \u001b[0;34m\u001b[0m\u001b[0m\n\u001b[0;32m---> 17\u001b[0;31m \u001b[0mstd_data\u001b[0m \u001b[0;34m=\u001b[0m \u001b[0mstandardize\u001b[0m\u001b[0;34m(\u001b[0m\u001b[0mdata\u001b[0m\u001b[0;34m)\u001b[0m\u001b[0;34m\u001b[0m\u001b[0;34m\u001b[0m\u001b[0m\n\u001b[0m",
      "\u001b[0;31mNameError\u001b[0m: name 'data' is not defined"
     ]
    }
   ],
   "source": [
    "def standardize(x):\n",
    "    ''' \n",
    "    Standardize matrix elements by centering around column means and dividing by column standard deviations.\n",
    "    \n",
    "    Parameters:\n",
    "    -----------\n",
    "    x: m-by-n array_like\n",
    "    \n",
    "    Returns:\n",
    "    --------\n",
    "    standardized array: array x with every elements centered around the mean of its column, and divided by its column's standard deviation.\n",
    "    '''\n",
    "    x_mean = np.mean(x, axis=0)\n",
    "    x_std = np.std(x, axis=0)\n",
    "    return (x - x_mean) / x_std\n",
    "\n",
    "std_data = standardize(data)"
   ]
  },
  {
   "cell_type": "code",
   "execution_count": 25,
   "metadata": {},
   "outputs": [
    {
     "data": {
      "text/plain": [
       "array([[ 1.0775774 , -1.34411605,  0.31525355,  0.80665878,  0.24128662],\n",
       "       [-1.81711634, -0.77630186,  0.74088404, -1.25592235, -1.42276759],\n",
       "       [ 0.62228127,  1.64254169, -1.797091  , -0.03521894,  1.51565143],\n",
       "       [ 0.23651339,  0.90075228, -0.83122987,  1.40786459,  1.11788073],\n",
       "       [-0.13414844, -0.95529104, -0.55795449,  0.54097769,  0.01136005],\n",
       "       [-0.70898541,  0.56774371, -0.08900028,  0.45652209,  0.65726018],\n",
       "       [ 1.2571441 ,  0.25993298,  1.23775021, -0.72176808, -1.4141686 ],\n",
       "       [-1.41508984, -1.04555188,  0.96949701, -1.69076861,  0.75969247],\n",
       "       [-0.10744434,  1.21308427, -1.14296098,  1.19109415, -0.35450368],\n",
       "       [ 0.98926822, -0.46279408,  1.15485183, -0.69943932, -1.11169162]])"
      ]
     },
     "execution_count": 25,
     "metadata": {},
     "output_type": "execute_result"
    }
   ],
   "source": [
    "std_data"
   ]
  },
  {
   "cell_type": "code",
   "execution_count": 26,
   "metadata": {},
   "outputs": [
    {
     "name": "stdout",
     "output_type": "stream",
     "text": [
      "[[ 1.0775774  -1.34411605  0.31525355  0.80665878  0.24128662]\n",
      " [-1.81711634 -0.77630186  0.74088404 -1.25592235 -1.42276759]\n",
      " [ 0.62228127  1.64254169 -1.797091   -0.03521894  1.51565143]\n",
      " [ 0.23651339  0.90075228 -0.83122987  1.40786459  1.11788073]\n",
      " [-0.13414844 -0.95529104 -0.55795449  0.54097769  0.01136005]\n",
      " [-0.70898541  0.56774371 -0.08900028  0.45652209  0.65726018]\n",
      " [ 1.2571441   0.25993298  1.23775021 -0.72176808 -1.4141686 ]\n",
      " [-1.41508984 -1.04555188  0.96949701 -1.69076861  0.75969247]\n",
      " [-0.10744434  1.21308427 -1.14296098  1.19109415 -0.35450368]\n",
      " [ 0.98926822 -0.46279408  1.15485183 -0.69943932 -1.11169162]] \n",
      "\n",
      " [-1.66533454e-16  4.99600361e-17 -2.22044605e-17  1.11022302e-17\n",
      "  3.33066907e-16] \n",
      "\n",
      " [1. 1. 1. 1. 1.]\n"
     ]
    }
   ],
   "source": [
    "print(std_data, \"\\n\\n\", np.mean(std_data, axis=0), \"\\n\\n\", np.std(std_data, axis=0))"
   ]
  },
  {
   "cell_type": "markdown",
   "metadata": {},
   "source": [
    "It indeed worked as we expected the mean and the average to be 0 and 1 respectively."
   ]
  }
 ],
 "metadata": {
  "kernelspec": {
   "display_name": "Python 3",
   "language": "python",
   "name": "python3"
  },
  "language_info": {
   "codemirror_mode": {
    "name": "ipython",
    "version": 3
   },
   "file_extension": ".py",
   "mimetype": "text/x-python",
   "name": "python",
   "nbconvert_exporter": "python",
   "pygments_lexer": "ipython3",
   "version": "3.6.9"
  },
  "varInspector": {
   "cols": {
    "lenName": 16,
    "lenType": 16,
    "lenVar": 40
   },
   "kernels_config": {
    "python": {
     "delete_cmd_postfix": "",
     "delete_cmd_prefix": "del ",
     "library": "var_list.py",
     "varRefreshCmd": "print(var_dic_list())"
    },
    "r": {
     "delete_cmd_postfix": ") ",
     "delete_cmd_prefix": "rm(",
     "library": "var_list.r",
     "varRefreshCmd": "cat(var_dic_list()) "
    }
   },
   "types_to_exclude": [
    "module",
    "function",
    "builtin_function_or_method",
    "instance",
    "_Feature"
   ],
   "window_display": false
  }
 },
 "nbformat": 4,
 "nbformat_minor": 1
}
