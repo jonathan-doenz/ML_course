{
 "cells": [
  {
   "cell_type": "code",
   "execution_count": 1,
   "metadata": {},
   "outputs": [],
   "source": [
    "%matplotlib inline\n",
    "import numpy as np\n",
    "import matplotlib.pyplot as plt\n",
    "%load_ext autoreload\n",
    "%autoreload 2"
   ]
  },
  {
   "cell_type": "markdown",
   "metadata": {},
   "source": [
    "Data Generation\n",
    "==="
   ]
  },
  {
   "cell_type": "code",
   "execution_count": 3,
   "metadata": {
    "collapsed": true
   },
   "outputs": [
    {
     "name": "stdout",
     "output_type": "stream",
     "text": [
      "[[0.77132064 0.02075195]\n",
      " [0.63364823 0.74880388]\n",
      " [0.49850701 0.22479665]\n",
      " [0.19806286 0.76053071]] \n",
      "\n",
      " [[0.16911084 0.08833981]\n",
      " [0.68535982 0.95339335]\n",
      " [0.00394827 0.51219226]\n",
      " [0.81262096 0.61252607]\n",
      " [0.72175532 0.29187607]]\n"
     ]
    }
   ],
   "source": [
    "np.random.seed(10)\n",
    "p, q = (np.random.rand(i, 2) for i in (4, 5))\n",
    "p_big, q_big = (np.random.rand(i, 80) for i in (100, 120))\n",
    "\n",
    "print(p, \"\\n\\n\", q)"
   ]
  },
  {
   "cell_type": "markdown",
   "metadata": {},
   "source": [
    "Solution\n",
    "==="
   ]
  },
  {
   "cell_type": "code",
   "execution_count": 5,
   "metadata": {},
   "outputs": [
    {
     "data": {
      "text/plain": [
       "array([[0., 0., 0., 0., 0.],\n",
       "       [0., 0., 0., 0., 0.],\n",
       "       [0., 0., 0., 0., 0.],\n",
       "       [0., 0., 0., 0., 0.]])"
      ]
     },
     "execution_count": 5,
     "metadata": {},
     "output_type": "execute_result"
    }
   ],
   "source": [
    "d = np.zeros([p.shape[0], q.shape[0]])\n",
    "d"
   ]
  },
  {
   "cell_type": "code",
   "execution_count": 9,
   "metadata": {},
   "outputs": [
    {
     "data": {
      "text/plain": [
       "(array([0.77132064, 0.02075195]), array([0.16911084, 0.08833981]))"
      ]
     },
     "execution_count": 9,
     "metadata": {},
     "output_type": "execute_result"
    }
   ],
   "source": [
    "p1 = p[0, :]\n",
    "p2 = q[0, :]\n",
    "p1, p2\n",
    "# p1 = p[0, :]"
   ]
  },
  {
   "cell_type": "code",
   "execution_count": 11,
   "metadata": {},
   "outputs": [
    {
     "data": {
      "text/plain": [
       "array([0.36265665, 0.00456812])"
      ]
     },
     "execution_count": 11,
     "metadata": {},
     "output_type": "execute_result"
    }
   ],
   "source": [
    "(p1-p2)**2"
   ]
  },
  {
   "cell_type": "code",
   "execution_count": 13,
   "metadata": {},
   "outputs": [
    {
     "data": {
      "text/plain": [
       "0.3672247707609204"
      ]
     },
     "execution_count": 13,
     "metadata": {},
     "output_type": "execute_result"
    }
   ],
   "source": [
    "np.sum( (p1-p2)**2 )"
   ]
  },
  {
   "cell_type": "code",
   "execution_count": 14,
   "metadata": {},
   "outputs": [
    {
     "data": {
      "text/plain": [
       "0.6059907348804273"
      ]
     },
     "execution_count": 14,
     "metadata": {},
     "output_type": "execute_result"
    }
   ],
   "source": [
    "euclidean_distance(p1, p2)"
   ]
  },
  {
   "cell_type": "code",
   "execution_count": 10,
   "metadata": {},
   "outputs": [],
   "source": [
    "def euclidean_distance(p1, p2):\n",
    "    \"\"\"Computes euclidean distance between p1 and p2.\n",
    "    \n",
    "    Parameters:\n",
    "    -----------\n",
    "    p1: n-by-1 array, contains coordinates of point p1\n",
    "    p2: n-by-1 array, contains coordinates of point p2\n",
    "    \n",
    "    Returns:\n",
    "    --------\n",
    "    euclidean distance between p1 and p2, i.e. sqrt( sum_i( (p1_i - p2_i)^2 ) ).\n",
    "    \"\"\"\n",
    "    return np.sqrt(np.sum( (p1 - p2)**2 ))"
   ]
  },
  {
   "cell_type": "code",
   "execution_count": 15,
   "metadata": {},
   "outputs": [],
   "source": [
    "def naive(p, q):\n",
    "    ''' fill your code in here...\n",
    "    '''\n",
    "    n_p = p.shape[0]\n",
    "    n_q = q.shape[0]\n",
    "    d = np.zeros([n_p, n_q])\n",
    "    for i in range(n_p):\n",
    "        for j in range(n_q):\n",
    "            d[i, j] = euclidean_distance(p[i, :], q[j, :])\n",
    "    return d"
   ]
  },
  {
   "cell_type": "code",
   "execution_count": 16,
   "metadata": {},
   "outputs": [
    {
     "data": {
      "text/plain": [
       "array([[0.60599073, 0.93659449, 0.91124856, 0.59321356, 0.27561751],\n",
       "       [0.80746999, 0.21102354, 0.67268649, 0.22495084, 0.46534491],\n",
       "       [0.35654215, 0.75217493, 0.57200052, 0.49900068, 0.23310825],\n",
       "       [0.67281411, 0.52407472, 0.31520226, 0.63212897, 0.70277376]])"
      ]
     },
     "execution_count": 16,
     "metadata": {},
     "output_type": "execute_result"
    }
   ],
   "source": [
    "d = naive(p, q)\n",
    "d"
   ]
  },
  {
   "cell_type": "markdown",
   "metadata": {},
   "source": [
    "### Use matching indices\n",
    "\n",
    "Instead of iterating through indices, one can use them directly to parallelize the operations with Numpy."
   ]
  },
  {
   "cell_type": "code",
   "execution_count": 18,
   "metadata": {},
   "outputs": [
    {
     "data": {
      "text/plain": [
       "array([[[0, 0, 0, 0, 0],\n",
       "        [1, 1, 1, 1, 1],\n",
       "        [2, 2, 2, 2, 2],\n",
       "        [3, 3, 3, 3, 3]],\n",
       "\n",
       "       [[0, 1, 2, 3, 4],\n",
       "        [0, 1, 2, 3, 4],\n",
       "        [0, 1, 2, 3, 4],\n",
       "        [0, 1, 2, 3, 4]]])"
      ]
     },
     "execution_count": 18,
     "metadata": {},
     "output_type": "execute_result"
    }
   ],
   "source": [
    "np.indices((p.shape[0], q.shape[0]))"
   ]
  },
  {
   "cell_type": "code",
   "execution_count": 19,
   "metadata": {},
   "outputs": [
    {
     "name": "stdout",
     "output_type": "stream",
     "text": [
      "[[0 0 0 0 0]\n",
      " [1 1 1 1 1]\n",
      " [2 2 2 2 2]\n",
      " [3 3 3 3 3]]\n",
      "\n",
      "[[0 1 2 3 4]\n",
      " [0 1 2 3 4]\n",
      " [0 1 2 3 4]\n",
      " [0 1 2 3 4]]\n"
     ]
    }
   ],
   "source": [
    "rows, cols = np.indices((p.shape[0], q.shape[0]))\n",
    "print(rows, end='\\n\\n')\n",
    "print(cols)"
   ]
  },
  {
   "cell_type": "code",
   "execution_count": 20,
   "metadata": {},
   "outputs": [
    {
     "data": {
      "text/plain": [
       "array([0, 0, 0, 0, 0, 1, 1, 1, 1, 1, 2, 2, 2, 2, 2, 3, 3, 3, 3, 3])"
      ]
     },
     "execution_count": 20,
     "metadata": {},
     "output_type": "execute_result"
    }
   ],
   "source": [
    "rows.ravel()"
   ]
  },
  {
   "cell_type": "code",
   "execution_count": 23,
   "metadata": {},
   "outputs": [
    {
     "data": {
      "text/plain": [
       "((4, 2), (20, 2))"
      ]
     },
     "execution_count": 23,
     "metadata": {},
     "output_type": "execute_result"
    }
   ],
   "source": [
    "p.shape, p[rows.ravel()].shape"
   ]
  },
  {
   "cell_type": "code",
   "execution_count": 21,
   "metadata": {},
   "outputs": [
    {
     "name": "stdout",
     "output_type": "stream",
     "text": [
      "[[0.77132064 0.02075195]\n",
      " [0.77132064 0.02075195]\n",
      " [0.77132064 0.02075195]\n",
      " [0.77132064 0.02075195]\n",
      " [0.77132064 0.02075195]\n",
      " [0.63364823 0.74880388]\n",
      " [0.63364823 0.74880388]\n",
      " [0.63364823 0.74880388]\n",
      " [0.63364823 0.74880388]\n",
      " [0.63364823 0.74880388]\n",
      " [0.49850701 0.22479665]\n",
      " [0.49850701 0.22479665]\n",
      " [0.49850701 0.22479665]\n",
      " [0.49850701 0.22479665]\n",
      " [0.49850701 0.22479665]\n",
      " [0.19806286 0.76053071]\n",
      " [0.19806286 0.76053071]\n",
      " [0.19806286 0.76053071]\n",
      " [0.19806286 0.76053071]\n",
      " [0.19806286 0.76053071]]\n",
      "\n",
      "[[0.16911084 0.08833981]\n",
      " [0.68535982 0.95339335]\n",
      " [0.00394827 0.51219226]\n",
      " [0.81262096 0.61252607]\n",
      " [0.72175532 0.29187607]\n",
      " [0.16911084 0.08833981]\n",
      " [0.68535982 0.95339335]\n",
      " [0.00394827 0.51219226]\n",
      " [0.81262096 0.61252607]\n",
      " [0.72175532 0.29187607]\n",
      " [0.16911084 0.08833981]\n",
      " [0.68535982 0.95339335]\n",
      " [0.00394827 0.51219226]\n",
      " [0.81262096 0.61252607]\n",
      " [0.72175532 0.29187607]\n",
      " [0.16911084 0.08833981]\n",
      " [0.68535982 0.95339335]\n",
      " [0.00394827 0.51219226]\n",
      " [0.81262096 0.61252607]\n",
      " [0.72175532 0.29187607]]\n"
     ]
    }
   ],
   "source": [
    "print(p[rows.ravel()], end='\\n\\n')\n",
    "print(q[cols.ravel()])"
   ]
  },
  {
   "cell_type": "code",
   "execution_count": 27,
   "metadata": {},
   "outputs": [],
   "source": [
    "def get_ready_to_compute_distances(p, q):\n",
    "    n_p = p.shape[0]\n",
    "    n_q = q.shape[0]\n",
    "    rows, cols = np.indices((n_p, n_q))\n",
    "    return p[rows.ravel()], q[cols.ravel()]"
   ]
  },
  {
   "cell_type": "code",
   "execution_count": 28,
   "metadata": {},
   "outputs": [],
   "source": [
    "def with_indices(p, q):\n",
    "    ''' fill your code in here...\n",
    "    '''\n",
    "    n_p = p.shape[0]\n",
    "    n_q = q.shape[0]\n",
    "    p_ready, q_ready = get_ready_to_compute_distances(p, q)\n",
    "    return np.sqrt( np.sum((p_ready - q_ready)**2, axis=1) ).reshape((n_p, n_q))"
   ]
  },
  {
   "cell_type": "code",
   "execution_count": 29,
   "metadata": {},
   "outputs": [
    {
     "data": {
      "text/plain": [
       "array([[0.60599073, 0.93659449, 0.91124856, 0.59321356, 0.27561751],\n",
       "       [0.80746999, 0.21102354, 0.67268649, 0.22495084, 0.46534491],\n",
       "       [0.35654215, 0.75217493, 0.57200052, 0.49900068, 0.23310825],\n",
       "       [0.67281411, 0.52407472, 0.31520226, 0.63212897, 0.70277376]])"
      ]
     },
     "execution_count": 29,
     "metadata": {},
     "output_type": "execute_result"
    }
   ],
   "source": [
    "with_indices(p, q)"
   ]
  },
  {
   "cell_type": "markdown",
   "metadata": {},
   "source": [
    "### Use a library\n",
    "\n",
    "`scipy` is the equivalent of matlab toolboxes and have a lot to offer. Actually the pairwise computation is part of the library through the `spatial` module."
   ]
  },
  {
   "cell_type": "code",
   "execution_count": 40,
   "metadata": {
    "collapsed": true
   },
   "outputs": [
    {
     "name": "stdout",
     "output_type": "stream",
     "text": [
      "\n",
      "    Compute distance between each pair of the two collections of inputs.\n",
      "\n",
      "    See Notes for common calling conventions.\n",
      "\n",
      "    Parameters\n",
      "    ----------\n",
      "    XA : ndarray\n",
      "        An :math:`m_A` by :math:`n` array of :math:`m_A`\n",
      "        original observations in an :math:`n`-dimensional space.\n",
      "        Inputs are converted to float type.\n",
      "    XB : ndarray\n",
      "        An :math:`m_B` by :math:`n` array of :math:`m_B`\n",
      "        original observations in an :math:`n`-dimensional space.\n",
      "        Inputs are converted to float type.\n",
      "    metric : str or callable, optional\n",
      "        The distance metric to use.  If a string, the distance function can be\n",
      "        'braycurtis', 'canberra', 'chebyshev', 'cityblock', 'correlation',\n",
      "        'cosine', 'dice', 'euclidean', 'hamming', 'jaccard', 'jensenshannon',\n",
      "        'kulsinski', 'mahalanobis', 'matching', 'minkowski', 'rogerstanimoto',\n",
      "        'russellrao', 'seuclidean', 'sokalmichener', 'sokalsneath', 'sqeuclidean',\n",
      "        'wminkowski', 'yule'.\n",
      "    *args : tuple. Deprecated.\n",
      "        Additional arguments should be passed as keyword arguments\n",
      "    **kwargs : dict, optional\n",
      "        Extra arguments to `metric`: refer to each metric documentation for a\n",
      "        list of all possible arguments.\n",
      "\n",
      "        Some possible arguments:\n",
      "\n",
      "        p : scalar\n",
      "        The p-norm to apply for Minkowski, weighted and unweighted.\n",
      "        Default: 2.\n",
      "\n",
      "        w : ndarray\n",
      "        The weight vector for metrics that support weights (e.g., Minkowski).\n",
      "\n",
      "        V : ndarray\n",
      "        The variance vector for standardized Euclidean.\n",
      "        Default: var(vstack([XA, XB]), axis=0, ddof=1)\n",
      "\n",
      "        VI : ndarray\n",
      "        The inverse of the covariance matrix for Mahalanobis.\n",
      "        Default: inv(cov(vstack([XA, XB].T))).T\n",
      "\n",
      "        out : ndarray\n",
      "        The output array\n",
      "        If not None, the distance matrix Y is stored in this array.\n",
      "        Note: metric independent, it will become a regular keyword arg in a\n",
      "        future scipy version\n",
      "\n",
      "    Returns\n",
      "    -------\n",
      "    Y : ndarray\n",
      "        A :math:`m_A` by :math:`m_B` distance matrix is returned.\n",
      "        For each :math:`i` and :math:`j`, the metric\n",
      "        ``dist(u=XA[i], v=XB[j])`` is computed and stored in the\n",
      "        :math:`ij` th entry.\n",
      "\n",
      "    Raises\n",
      "    ------\n",
      "    ValueError\n",
      "        An exception is thrown if `XA` and `XB` do not have\n",
      "        the same number of columns.\n",
      "\n",
      "    Notes\n",
      "    -----\n",
      "    The following are common calling conventions:\n",
      "\n",
      "    1. ``Y = cdist(XA, XB, 'euclidean')``\n",
      "\n",
      "       Computes the distance between :math:`m` points using\n",
      "       Euclidean distance (2-norm) as the distance metric between the\n",
      "       points. The points are arranged as :math:`m`\n",
      "       :math:`n`-dimensional row vectors in the matrix X.\n",
      "\n",
      "    2. ``Y = cdist(XA, XB, 'minkowski', p=2.)``\n",
      "\n",
      "       Computes the distances using the Minkowski distance\n",
      "       :math:`||u-v||_p` (:math:`p`-norm) where :math:`p \\geq 1`.\n",
      "\n",
      "    3. ``Y = cdist(XA, XB, 'cityblock')``\n",
      "\n",
      "       Computes the city block or Manhattan distance between the\n",
      "       points.\n",
      "\n",
      "    4. ``Y = cdist(XA, XB, 'seuclidean', V=None)``\n",
      "\n",
      "       Computes the standardized Euclidean distance. The standardized\n",
      "       Euclidean distance between two n-vectors ``u`` and ``v`` is\n",
      "\n",
      "       .. math::\n",
      "\n",
      "          \\sqrt{\\sum {(u_i-v_i)^2 / V[x_i]}}.\n",
      "\n",
      "       V is the variance vector; V[i] is the variance computed over all\n",
      "       the i'th components of the points. If not passed, it is\n",
      "       automatically computed.\n",
      "\n",
      "    5. ``Y = cdist(XA, XB, 'sqeuclidean')``\n",
      "\n",
      "       Computes the squared Euclidean distance :math:`||u-v||_2^2` between\n",
      "       the vectors.\n",
      "\n",
      "    6. ``Y = cdist(XA, XB, 'cosine')``\n",
      "\n",
      "       Computes the cosine distance between vectors u and v,\n",
      "\n",
      "       .. math::\n",
      "\n",
      "          1 - \\frac{u \\cdot v}\n",
      "                   {{||u||}_2 {||v||}_2}\n",
      "\n",
      "       where :math:`||*||_2` is the 2-norm of its argument ``*``, and\n",
      "       :math:`u \\cdot v` is the dot product of :math:`u` and :math:`v`.\n",
      "\n",
      "    7. ``Y = cdist(XA, XB, 'correlation')``\n",
      "\n",
      "       Computes the correlation distance between vectors u and v. This is\n",
      "\n",
      "       .. math::\n",
      "\n",
      "          1 - \\frac{(u - \\bar{u}) \\cdot (v - \\bar{v})}\n",
      "                   {{||(u - \\bar{u})||}_2 {||(v - \\bar{v})||}_2}\n",
      "\n",
      "       where :math:`\\bar{v}` is the mean of the elements of vector v,\n",
      "       and :math:`x \\cdot y` is the dot product of :math:`x` and :math:`y`.\n",
      "\n",
      "\n",
      "    8. ``Y = cdist(XA, XB, 'hamming')``\n",
      "\n",
      "       Computes the normalized Hamming distance, or the proportion of\n",
      "       those vector elements between two n-vectors ``u`` and ``v``\n",
      "       which disagree. To save memory, the matrix ``X`` can be of type\n",
      "       boolean.\n",
      "\n",
      "    9. ``Y = cdist(XA, XB, 'jaccard')``\n",
      "\n",
      "       Computes the Jaccard distance between the points. Given two\n",
      "       vectors, ``u`` and ``v``, the Jaccard distance is the\n",
      "       proportion of those elements ``u[i]`` and ``v[i]`` that\n",
      "       disagree where at least one of them is non-zero.\n",
      "\n",
      "    10. ``Y = cdist(XA, XB, 'chebyshev')``\n",
      "\n",
      "       Computes the Chebyshev distance between the points. The\n",
      "       Chebyshev distance between two n-vectors ``u`` and ``v`` is the\n",
      "       maximum norm-1 distance between their respective elements. More\n",
      "       precisely, the distance is given by\n",
      "\n",
      "       .. math::\n",
      "\n",
      "          d(u,v) = \\max_i {|u_i-v_i|}.\n",
      "\n",
      "    11. ``Y = cdist(XA, XB, 'canberra')``\n",
      "\n",
      "       Computes the Canberra distance between the points. The\n",
      "       Canberra distance between two points ``u`` and ``v`` is\n",
      "\n",
      "       .. math::\n",
      "\n",
      "         d(u,v) = \\sum_i \\frac{|u_i-v_i|}\n",
      "                              {|u_i|+|v_i|}.\n",
      "\n",
      "    12. ``Y = cdist(XA, XB, 'braycurtis')``\n",
      "\n",
      "       Computes the Bray-Curtis distance between the points. The\n",
      "       Bray-Curtis distance between two points ``u`` and ``v`` is\n",
      "\n",
      "\n",
      "       .. math::\n",
      "\n",
      "            d(u,v) = \\frac{\\sum_i (|u_i-v_i|)}\n",
      "                          {\\sum_i (|u_i+v_i|)}\n",
      "\n",
      "    13. ``Y = cdist(XA, XB, 'mahalanobis', VI=None)``\n",
      "\n",
      "       Computes the Mahalanobis distance between the points. The\n",
      "       Mahalanobis distance between two points ``u`` and ``v`` is\n",
      "       :math:`\\sqrt{(u-v)(1/V)(u-v)^T}` where :math:`(1/V)` (the ``VI``\n",
      "       variable) is the inverse covariance. If ``VI`` is not None,\n",
      "       ``VI`` will be used as the inverse covariance matrix.\n",
      "\n",
      "    14. ``Y = cdist(XA, XB, 'yule')``\n",
      "\n",
      "       Computes the Yule distance between the boolean\n",
      "       vectors. (see `yule` function documentation)\n",
      "\n",
      "    15. ``Y = cdist(XA, XB, 'matching')``\n",
      "\n",
      "       Synonym for 'hamming'.\n",
      "\n",
      "    16. ``Y = cdist(XA, XB, 'dice')``\n",
      "\n",
      "       Computes the Dice distance between the boolean vectors. (see\n",
      "       `dice` function documentation)\n",
      "\n",
      "    17. ``Y = cdist(XA, XB, 'kulsinski')``\n",
      "\n",
      "       Computes the Kulsinski distance between the boolean\n",
      "       vectors. (see `kulsinski` function documentation)\n",
      "\n",
      "    18. ``Y = cdist(XA, XB, 'rogerstanimoto')``\n",
      "\n",
      "       Computes the Rogers-Tanimoto distance between the boolean\n",
      "       vectors. (see `rogerstanimoto` function documentation)\n",
      "\n",
      "    19. ``Y = cdist(XA, XB, 'russellrao')``\n",
      "\n",
      "       Computes the Russell-Rao distance between the boolean\n",
      "       vectors. (see `russellrao` function documentation)\n",
      "\n",
      "    20. ``Y = cdist(XA, XB, 'sokalmichener')``\n",
      "\n",
      "       Computes the Sokal-Michener distance between the boolean\n",
      "       vectors. (see `sokalmichener` function documentation)\n",
      "\n",
      "    21. ``Y = cdist(XA, XB, 'sokalsneath')``\n",
      "\n",
      "       Computes the Sokal-Sneath distance between the vectors. (see\n",
      "       `sokalsneath` function documentation)\n",
      "\n",
      "\n",
      "    22. ``Y = cdist(XA, XB, 'wminkowski', p=2., w=w)``\n",
      "\n",
      "       Computes the weighted Minkowski distance between the\n",
      "       vectors. (see `wminkowski` function documentation)\n",
      "\n",
      "    23. ``Y = cdist(XA, XB, f)``\n",
      "\n",
      "       Computes the distance between all pairs of vectors in X\n",
      "       using the user supplied 2-arity function f. For example,\n",
      "       Euclidean distance between the vectors could be computed\n",
      "       as follows::\n",
      "\n",
      "         dm = cdist(XA, XB, lambda u, v: np.sqrt(((u-v)**2).sum()))\n",
      "\n",
      "       Note that you should avoid passing a reference to one of\n",
      "       the distance functions defined in this library. For example,::\n",
      "\n",
      "         dm = cdist(XA, XB, sokalsneath)\n",
      "\n",
      "       would calculate the pair-wise distances between the vectors in\n",
      "       X using the Python function `sokalsneath`. This would result in\n",
      "       sokalsneath being called :math:`{n \\choose 2}` times, which\n",
      "       is inefficient. Instead, the optimized C version is more\n",
      "       efficient, and we call it using the following syntax::\n",
      "\n",
      "         dm = cdist(XA, XB, 'sokalsneath')\n",
      "\n",
      "    Examples\n",
      "    --------\n",
      "    Find the Euclidean distances between four 2-D coordinates:\n",
      "\n",
      "    >>> from scipy.spatial import distance\n",
      "    >>> coords = [(35.0456, -85.2672),\n",
      "    ...           (35.1174, -89.9711),\n",
      "    ...           (35.9728, -83.9422),\n",
      "    ...           (36.1667, -86.7833)]\n",
      "    >>> distance.cdist(coords, coords, 'euclidean')\n",
      "    array([[ 0.    ,  4.7044,  1.6172,  1.8856],\n",
      "           [ 4.7044,  0.    ,  6.0893,  3.3561],\n",
      "           [ 1.6172,  6.0893,  0.    ,  2.8477],\n",
      "           [ 1.8856,  3.3561,  2.8477,  0.    ]])\n",
      "\n",
      "\n",
      "    Find the Manhattan distance from a 3-D point to the corners of the unit\n",
      "    cube:\n",
      "\n",
      "    >>> a = np.array([[0, 0, 0],\n",
      "    ...               [0, 0, 1],\n",
      "    ...               [0, 1, 0],\n",
      "    ...               [0, 1, 1],\n",
      "    ...               [1, 0, 0],\n",
      "    ...               [1, 0, 1],\n",
      "    ...               [1, 1, 0],\n",
      "    ...               [1, 1, 1]])\n",
      "    >>> b = np.array([[ 0.1,  0.2,  0.4]])\n",
      "    >>> distance.cdist(a, b, 'cityblock')\n",
      "    array([[ 0.7],\n",
      "           [ 0.9],\n",
      "           [ 1.3],\n",
      "           [ 1.5],\n",
      "           [ 1.5],\n",
      "           [ 1.7],\n",
      "           [ 2.1],\n",
      "           [ 2.3]])\n",
      "\n",
      "    \n"
     ]
    }
   ],
   "source": [
    "print(cdist.__doc__)"
   ]
  },
  {
   "cell_type": "code",
   "execution_count": 37,
   "metadata": {},
   "outputs": [],
   "source": [
    "from scipy.spatial.distance import cdist\n",
    "\n",
    "def scipy_version(p, q):\n",
    "    return cdist(p, q)"
   ]
  },
  {
   "cell_type": "markdown",
   "metadata": {},
   "source": [
    "### Numpy Magic"
   ]
  },
  {
   "cell_type": "code",
   "execution_count": 34,
   "metadata": {},
   "outputs": [
    {
     "data": {
      "text/plain": [
       "array([[[0.77132064, 0.02075195]],\n",
       "\n",
       "       [[0.63364823, 0.74880388]],\n",
       "\n",
       "       [[0.49850701, 0.22479665]],\n",
       "\n",
       "       [[0.19806286, 0.76053071]]])"
      ]
     },
     "execution_count": 34,
     "metadata": {},
     "output_type": "execute_result"
    }
   ],
   "source": [
    "p[:, np.newaxis,:]"
   ]
  },
  {
   "cell_type": "code",
   "execution_count": 36,
   "metadata": {},
   "outputs": [
    {
     "data": {
      "text/plain": [
       "((4, 1, 2), (1, 5, 2))"
      ]
     },
     "execution_count": 36,
     "metadata": {},
     "output_type": "execute_result"
    }
   ],
   "source": [
    "p[:, np.newaxis,:].shape, q[np.newaxis,:,:].shape"
   ]
  },
  {
   "cell_type": "code",
   "execution_count": 33,
   "metadata": {},
   "outputs": [],
   "source": [
    "def tensor_broadcasting(p, q):\n",
    "    return np.sqrt(np.sum((p[:,np.newaxis,:]-q[np.newaxis,:,:])**2, axis=2))"
   ]
  },
  {
   "cell_type": "markdown",
   "metadata": {},
   "source": [
    "# Compare methods"
   ]
  },
  {
   "cell_type": "code",
   "execution_count": 38,
   "metadata": {},
   "outputs": [
    {
     "name": "stdout",
     "output_type": "stream",
     "text": [
      "220 ms ± 2.56 ms per loop (mean ± std. dev. of 7 runs, 1 loop each)\n",
      "12.3 ms ± 306 µs per loop (mean ± std. dev. of 7 runs, 1 loop each)\n",
      "972 µs ± 8.14 µs per loop (mean ± std. dev. of 7 runs, 1000 loops each)\n",
      "5.58 ms ± 88 µs per loop (mean ± std. dev. of 7 runs, 100 loops each)\n"
     ]
    }
   ],
   "source": [
    "methods = [naive, with_indices, scipy_version, tensor_broadcasting]\n",
    "timers = []\n",
    "for f in methods:\n",
    "    r = %timeit -o f(p_big, q_big)\n",
    "    timers.append(r)"
   ]
  },
  {
   "cell_type": "code",
   "execution_count": 41,
   "metadata": {},
   "outputs": [
    {
     "data": {
      "image/png": "[encoded data removed]",
      "text/plain": [
       "<Figure size 720x432 with 1 Axes>"
      ]
     },
     "metadata": {
      "needs_background": "light"
     },
     "output_type": "display_data"
    }
   ],
   "source": [
    "plt.figure(figsize=(10,6))\n",
    "plt.bar(np.arange(len(methods)), [r.best*1000 for r in timers], log=False)  # Set log to True for logarithmic scale\n",
    "plt.xticks(np.arange(len(methods)), [f.__name__ for f in methods], rotation=30)\n",
    "# plt.xticks(np.arange(len(methods))+0.2, [f.__name__ for f in methods], rotation=30)\n",
    "plt.xlabel('Method')\n",
    "plt.ylabel('Time (ms)')\n",
    "plt.show()"
   ]
  },
  {
   "cell_type": "code",
   "execution_count": null,
   "metadata": {
    "collapsed": true
   },
   "outputs": [],
   "source": []
  }
 ],
 "metadata": {
  "kernelspec": {
   "display_name": "Python 3",
   "language": "python",
   "name": "python3"
  },
  "language_info": {
   "codemirror_mode": {
    "name": "ipython",
    "version": 3
   },
   "file_extension": ".py",
   "mimetype": "text/x-python",
   "name": "python",
   "nbconvert_exporter": "python",
   "pygments_lexer": "ipython3",
   "version": "3.6.9"
  },
  "varInspector": {
   "cols": {
    "lenName": 16,
    "lenType": 16,
    "lenVar": 40
   },
   "kernels_config": {
    "python": {
     "delete_cmd_postfix": "",
     "delete_cmd_prefix": "del ",
     "library": "var_list.py",
     "varRefreshCmd": "print(var_dic_list())"
    },
    "r": {
     "delete_cmd_postfix": ") ",
     "delete_cmd_prefix": "rm(",
     "library": "var_list.r",
     "varRefreshCmd": "cat(var_dic_list()) "
    }
   },
   "types_to_exclude": [
    "module",
    "function",
    "builtin_function_or_method",
    "instance",
    "_Feature"
   ],
   "window_display": false
  }
 },
 "nbformat": 4,
 "nbformat_minor": 1
}
