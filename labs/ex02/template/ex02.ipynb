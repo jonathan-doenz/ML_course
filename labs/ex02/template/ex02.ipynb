{
 "cells": [
  {
   "cell_type": "code",
   "execution_count": 116,
   "metadata": {},
   "outputs": [
    {
     "name": "stdout",
     "output_type": "stream",
     "text": [
      "The autoreload extension is already loaded. To reload it, use:\n",
      "  %reload_ext autoreload\n"
     ]
    }
   ],
   "source": [
    "# Useful starting lines\n",
    "%matplotlib inline\n",
    "import numpy as np\n",
    "import matplotlib.pyplot as plt\n",
    "%load_ext autoreload\n",
    "%autoreload 2"
   ]
  },
  {
   "cell_type": "markdown",
   "metadata": {},
   "source": [
    "# Load the data"
   ]
  },
  {
   "cell_type": "code",
   "execution_count": 117,
   "metadata": {},
   "outputs": [],
   "source": [
    "import datetime\n",
    "from helpers import *\n",
    "\n",
    "height, weight, gender = load_data(sub_sample=True, add_outlier=True)\n",
    "# height, weight, gender = load_data(sub_sample=True, add_outlier=False)\n",
    "# height, weight, gender = load_data(sub_sample=False, add_outlier=False)\n",
    "x, mean_x, std_x = standardize(height)\n",
    "y, tx = build_model_data(x, weight)"
   ]
  },
  {
   "cell_type": "code",
   "execution_count": 118,
   "metadata": {},
   "outputs": [
    {
     "data": {
      "text/plain": [
       "((202,), (202, 2))"
      ]
     },
     "execution_count": 118,
     "metadata": {},
     "output_type": "execute_result"
    }
   ],
   "source": [
    "y.shape, tx.shape"
   ]
  },
  {
   "cell_type": "markdown",
   "metadata": {},
   "source": [
    "# 1 Computing the Cost Function"
   ]
  },
  {
   "cell_type": "markdown",
   "metadata": {},
   "source": [
    "Fill in the `compute_loss` function below:\n",
    "<a id='compute_loss'></a>\n"
   ]
  },
  {
   "cell_type": "code",
   "execution_count": 119,
   "metadata": {},
   "outputs": [],
   "source": [
    "def compute_loss_MSE(y, tx, w):\n",
    "    \"\"\"Calculate the loss using mean squared error (MSE).\"\"\"\n",
    "    N = len(y)\n",
    "    e = y - tx @ w\n",
    "    return e.T @ e / N"
   ]
  },
  {
   "cell_type": "code",
   "execution_count": 120,
   "metadata": {},
   "outputs": [],
   "source": [
    "def compute_loss_MAE(y, tx, w):\n",
    "    \"\"\"Calculate the loss using mean absolute error (MAE).\"\"\"\n",
    "    N = len(y)\n",
    "    e = y - tx @ w\n",
    "    return np.abs(e).T @ np.ones(N)"
   ]
  },
  {
   "cell_type": "code",
   "execution_count": 121,
   "metadata": {},
   "outputs": [],
   "source": [
    "def compute_loss(y, tx, w, method=\"MSE\"):\n",
    "    \"\"\"Calculate the loss using mean squared error (MSE).\"\"\"\n",
    "    N = len(y)\n",
    "    e = y - tx @ w\n",
    "    if method == \"MSE\":\n",
    "        loss = e.T @ e / N\n",
    "    elif method == \"MAE\":\n",
    "        loss = np.abs(e).T @ np.ones(N)\n",
    "    \n",
    "    return loss"
   ]
  },
  {
   "cell_type": "code",
   "execution_count": 122,
   "metadata": {},
   "outputs": [
    {
     "data": {
      "text/plain": [
       "14759.69678269513"
      ]
     },
     "execution_count": 122,
     "metadata": {},
     "output_type": "execute_result"
    }
   ],
   "source": [
    "compute_loss_2(y, tx, w, \"MAE\")"
   ]
  },
  {
   "cell_type": "code",
   "execution_count": 123,
   "metadata": {},
   "outputs": [],
   "source": [
    "w = np.array([1, 2])"
   ]
  },
  {
   "cell_type": "code",
   "execution_count": 124,
   "metadata": {},
   "outputs": [
    {
     "data": {
      "text/plain": [
       "5552.395037897896"
      ]
     },
     "execution_count": 124,
     "metadata": {},
     "output_type": "execute_result"
    }
   ],
   "source": [
    "compute_loss(y, tx, w)"
   ]
  },
  {
   "cell_type": "markdown",
   "metadata": {},
   "source": [
    "# 2 Grid Search\n",
    "\n",
    "Fill in the function `grid_search()` below:"
   ]
  },
  {
   "cell_type": "code",
   "execution_count": 125,
   "metadata": {},
   "outputs": [
    {
     "name": "stdout",
     "output_type": "stream",
     "text": [
      "element 0 of w equals 1\n",
      "element 1 of w equals 2\n"
     ]
    }
   ],
   "source": [
    "for i, el in enumerate(w):\n",
    "    # print(\"hello \" + str(i))\n",
    "    print(\"element {} of w equals {}\".format(i, el))"
   ]
  },
  {
   "cell_type": "code",
   "execution_count": 126,
   "metadata": {},
   "outputs": [],
   "source": [
    "def grid_search(y, tx, w0, w1, method=\"MSE\"):\n",
    "    \"\"\"Algorithm for grid search.\"\"\"\n",
    "    losses = np.zeros((len(w0), len(w1)))\n",
    "    for i, w_0 in enumerate(w0):\n",
    "        for j, w_1 in enumerate(w1):\n",
    "            losses[i, j] = compute_loss(y, tx, [w_0, w_1], method)\n",
    "            # losses[i, j] = compute_loss(y, tx, [w_0, w_1])\n",
    "    return losses"
   ]
  },
  {
   "cell_type": "markdown",
   "metadata": {},
   "source": [
    "Let us play with the grid search demo now!"
   ]
  },
  {
   "cell_type": "code",
   "execution_count": 127,
   "metadata": {},
   "outputs": [
    {
     "name": "stdout",
     "output_type": "stream",
     "text": [
      "Grid Search: loss*=142.25403922169858, w0*=71.42857142857142, w1*=9.183673469387742, execution time=0.053 seconds\n"
     ]
    },
    {
     "data": {
      "image/png": "[encoded data removed]",
      "text/plain": [
       "<Figure size 720x432 with 3 Axes>"
      ]
     },
     "metadata": {
      "needs_background": "light"
     },
     "output_type": "display_data"
    }
   ],
   "source": [
    "from grid_search import generate_w, get_best_parameters\n",
    "from plots import grid_visualization\n",
    "\n",
    "# Generate the grid of parameters to be swept\n",
    "grid_w0, grid_w1 = generate_w(num_intervals=50)\n",
    "\n",
    "# Start the grid search\n",
    "start_time = datetime.datetime.now()\n",
    "grid_losses = grid_search(y, tx, grid_w0, grid_w1)\n",
    "\n",
    "# Select the best combinaison\n",
    "loss_star, w0_star, w1_star = get_best_parameters(grid_w0, grid_w1, grid_losses)\n",
    "end_time = datetime.datetime.now()\n",
    "execution_time = (end_time - start_time).total_seconds()\n",
    "\n",
    "# Print the results\n",
    "print(\"Grid Search: loss*={l}, w0*={w0}, w1*={w1}, execution time={t:.3f} seconds\".format(\n",
    "      l=loss_star, w0=w0_star, w1=w1_star, t=execution_time))\n",
    "\n",
    "# Plot the results\n",
    "fig = grid_visualization(grid_losses, grid_w0, grid_w1, mean_x, std_x, height, weight)\n",
    "fig.set_size_inches(10.0,6.0)\n",
    "fig.savefig(\"grid_plot\")  # Optional saving"
   ]
  },
  {
   "cell_type": "markdown",
   "metadata": {},
   "source": [
    "# 3 Gradient Descent"
   ]
  },
  {
   "cell_type": "markdown",
   "metadata": {},
   "source": [
    "Again, please fill in the functions `compute_gradient` below:"
   ]
  },
  {
   "cell_type": "code",
   "execution_count": 128,
   "metadata": {},
   "outputs": [],
   "source": [
    "def compute_error_vec(y, tx, w):\n",
    "    \"\"\"Compute the error vector: y - Xw\"\"\"\n",
    "    return y - tx @ w"
   ]
  },
  {
   "cell_type": "code",
   "execution_count": 129,
   "metadata": {},
   "outputs": [],
   "source": [
    "def compute_gradient(y, tx, w):\n",
    "    \"\"\"Compute the gradient.\"\"\"\n",
    "    N = len(y)\n",
    "    e = y - tx @ w\n",
    "    return - tx.T @ e / N"
   ]
  },
  {
   "cell_type": "markdown",
   "metadata": {},
   "source": [
    "Please fill in the functions `gradient_descent` below:"
   ]
  },
  {
   "cell_type": "code",
   "execution_count": 130,
   "metadata": {},
   "outputs": [],
   "source": [
    "def gradient_descent(y, tx, initial_w, max_iters, gamma):\n",
    "    \"\"\"Gradient descent algorithm.\"\"\"\n",
    "    # Define parameters to store w and loss\n",
    "    N = len(y)\n",
    "    ws = [initial_w]\n",
    "    losses = []\n",
    "    w = initial_w\n",
    "    for n_iter in range(max_iters):\n",
    "        # ***************************************************\n",
    "        # INSERT YOUR CODE HERE\n",
    "        # TODO: compute gradient and loss\n",
    "        # ***************************************************\n",
    "        gradient = compute_gradient(y, tx, w)\n",
    "        e = compute_error_vec(y, tx, w)\n",
    "        loss = e.T @ e / (2 * N)\n",
    "        # ***************************************************\n",
    "        # INSERT YOUR CODE HERE\n",
    "        # TODO: update w by gradient\n",
    "        # ***************************************************\n",
    "        # w -= gamma * gradient\n",
    "        w = w - gamma * gradient\n",
    "        # store w and loss\n",
    "        ws.append(w)\n",
    "        losses.append(loss)\n",
    "        print(\"Gradient Descent({bi}/{ti}): loss={l}, w0={w0}, w1={w1}\".format(\n",
    "              bi=n_iter, ti=max_iters - 1, l=loss, w0=w[0], w1=w[1]))\n",
    "\n",
    "    return losses, ws"
   ]
  },
  {
   "cell_type": "code",
   "execution_count": 133,
   "metadata": {},
   "outputs": [
    {
     "name": "stdout",
     "output_type": "stream",
     "text": [
      "Subgradient Descent(0/49): loss=14961.69678269513, w0=0.1, w1=8.727891896558162e-17\n",
      "Subgradient Descent(1/49): loss=14941.496782695129, w0=0.2, w1=1.7455783793116323e-16\n",
      "Subgradient Descent(2/49): loss=14921.29678269513, w0=0.30000000000000004, w1=2.6183675689674487e-16\n",
      "Subgradient Descent(3/49): loss=14901.096782695127, w0=0.4, w1=3.4911567586232647e-16\n",
      "Subgradient Descent(4/49): loss=14880.89678269513, w0=0.5, w1=4.3639459482790806e-16\n",
      "Subgradient Descent(5/49): loss=14860.69678269513, w0=0.6, w1=5.236735137934897e-16\n",
      "Subgradient Descent(6/49): loss=14840.496782695129, w0=0.7, w1=6.109524327590712e-16\n",
      "Subgradient Descent(7/49): loss=14820.296782695132, w0=0.7999999999999999, w1=6.982313517246528e-16\n",
      "Subgradient Descent(8/49): loss=14800.096782695127, w0=0.8999999999999999, w1=7.855102706902344e-16\n",
      "Subgradient Descent(9/49): loss=14779.89678269513, w0=0.9999999999999999, w1=8.72789189655816e-16\n",
      "Subgradient Descent(10/49): loss=14759.69678269513, w0=1.0999999999999999, w1=9.600681086213977e-16\n",
      "Subgradient Descent(11/49): loss=14739.496782695129, w0=1.2, w1=1.0473470275869793e-15\n",
      "Subgradient Descent(12/49): loss=14719.296782695132, w0=1.3, w1=1.1346259465525609e-15\n",
      "Subgradient Descent(13/49): loss=14699.096782695127, w0=1.4000000000000001, w1=1.2219048655181425e-15\n",
      "Subgradient Descent(14/49): loss=14678.89678269513, w0=1.5000000000000002, w1=1.309183784483724e-15\n",
      "Subgradient Descent(15/49): loss=14658.69678269513, w0=1.6000000000000003, w1=1.3964627034493057e-15\n",
      "Subgradient Descent(16/49): loss=14638.496782695127, w0=1.7000000000000004, w1=1.4837416224148873e-15\n",
      "Subgradient Descent(17/49): loss=14618.296782695132, w0=1.8000000000000005, w1=1.5710205413804689e-15\n",
      "Subgradient Descent(18/49): loss=14598.096782695127, w0=1.9000000000000006, w1=1.6582994603460504e-15\n",
      "Subgradient Descent(19/49): loss=14577.89678269513, w0=2.0000000000000004, w1=1.745578379311632e-15\n",
      "Subgradient Descent(20/49): loss=14557.69678269513, w0=2.1000000000000005, w1=1.832857298277214e-15\n",
      "Subgradient Descent(21/49): loss=14537.496782695127, w0=2.2000000000000006, w1=1.9201362172427954e-15\n",
      "Subgradient Descent(22/49): loss=14517.296782695132, w0=2.3000000000000007, w1=2.007415136208377e-15\n",
      "Subgradient Descent(23/49): loss=14497.096782695127, w0=2.400000000000001, w1=2.0946940551739586e-15\n",
      "Subgradient Descent(24/49): loss=14476.89678269513, w0=2.500000000000001, w1=2.18197297413954e-15\n",
      "Subgradient Descent(25/49): loss=14456.69678269513, w0=2.600000000000001, w1=2.2692518931051218e-15\n",
      "Subgradient Descent(26/49): loss=14436.496782695127, w0=2.700000000000001, w1=2.3565308120707034e-15\n",
      "Subgradient Descent(27/49): loss=14416.296782695132, w0=2.800000000000001, w1=2.443809731036285e-15\n",
      "Subgradient Descent(28/49): loss=14396.096782695127, w0=2.9000000000000012, w1=2.5310886500018666e-15\n",
      "Subgradient Descent(29/49): loss=14375.896782695128, w0=3.0000000000000013, w1=2.618367568967448e-15\n",
      "Subgradient Descent(30/49): loss=14355.69678269513, w0=3.1000000000000014, w1=2.7056464879330297e-15\n",
      "Subgradient Descent(31/49): loss=14335.496782695125, w0=3.2000000000000015, w1=2.7929254068986113e-15\n",
      "Subgradient Descent(32/49): loss=14315.296782695132, w0=3.3000000000000016, w1=2.880204325864193e-15\n",
      "Subgradient Descent(33/49): loss=14295.096782695127, w0=3.4000000000000017, w1=2.9674832448297745e-15\n",
      "Subgradient Descent(34/49): loss=14274.896782695128, w0=3.5000000000000018, w1=3.054762163795356e-15\n",
      "Subgradient Descent(35/49): loss=14254.69678269513, w0=3.600000000000002, w1=3.1420410827609377e-15\n",
      "Subgradient Descent(36/49): loss=14234.496782695127, w0=3.700000000000002, w1=3.2293200017265193e-15\n",
      "Subgradient Descent(37/49): loss=14214.296782695132, w0=3.800000000000002, w1=3.316598920692101e-15\n",
      "Subgradient Descent(38/49): loss=14194.096782695127, w0=3.900000000000002, w1=3.4038778396576825e-15\n",
      "Subgradient Descent(39/49): loss=14173.896782695128, w0=4.000000000000002, w1=3.491156758623264e-15\n",
      "Subgradient Descent(40/49): loss=14153.69678269513, w0=4.100000000000001, w1=3.578435677588846e-15\n",
      "Subgradient Descent(41/49): loss=14133.496782695127, w0=4.200000000000001, w1=3.665714596554428e-15\n",
      "Subgradient Descent(42/49): loss=14113.296782695132, w0=4.300000000000001, w1=3.75299351552001e-15\n",
      "Subgradient Descent(43/49): loss=14093.096782695127, w0=4.4, w1=3.840272434485592e-15\n",
      "Subgradient Descent(44/49): loss=14072.896782695128, w0=4.5, w1=3.927551353451174e-15\n",
      "Subgradient Descent(45/49): loss=14052.69678269513, w0=4.6, w1=4.0148302724167556e-15\n",
      "Subgradient Descent(46/49): loss=14032.496782695127, w0=4.699999999999999, w1=4.1021091913823376e-15\n",
      "Subgradient Descent(47/49): loss=14012.296782695128, w0=4.799999999999999, w1=4.1893881103479196e-15\n",
      "Subgradient Descent(48/49): loss=13992.09678269513, w0=4.899999999999999, w1=4.2766670293135016e-15\n",
      "Subgradient Descent(49/49): loss=13971.896782695128, w0=4.999999999999998, w1=4.3639459482790835e-15\n",
      "Subgradient Descent: execution time=0.021 seconds\n"
     ]
    }
   ],
   "source": [
    "# from gradient_descent import *\n",
    "from plots import gradient_descent_visualization\n",
    "\n",
    "# Define the parameters of the algorithm.\n",
    "max_iters = 50\n",
    "# max_iters = 100\n",
    "# gamma = 0.7\n",
    "# gamma = 0.001\n",
    "gamma = 0.1\n",
    "# gamma = 0.1\n",
    "# gamma = 0.5\n",
    "# gamma = 1\n",
    "# gamma = 2\n",
    "# gamma = 2.5\n",
    "\n",
    "# Initialization\n",
    "w_initial = np.array([0, 0])\n",
    "# w_initial = np.array([100, 10])\n",
    "# w_initial = np.array([-1000, 1000])\n",
    "\n",
    "# Start gradient descent.\n",
    "start_time = datetime.datetime.now()\n",
    "subgradient_losses, subgradient_ws = subgradient_descent(y, tx, w_initial, max_iters, gamma)\n",
    "end_time = datetime.datetime.now()\n",
    "\n",
    "# Print result\n",
    "exection_time = (end_time - start_time).total_seconds()\n",
    "print(\"Subgradient Descent: execution time={t:.3f} seconds\".format(t=exection_time))"
   ]
  },
  {
   "cell_type": "markdown",
   "metadata": {},
   "source": [
    "Test your gradient descent function through gradient descent demo shown below:"
   ]
  },
  {
   "cell_type": "code",
   "execution_count": 134,
   "metadata": {},
   "outputs": [
    {
     "data": {
      "application/vnd.jupyter.widget-view+json": {
       "model_id": "8818add03ef54da49d597ca2ff21ff9e",
       "version_major": 2,
       "version_minor": 0
      },
      "text/plain": [
       "interactive(children=(IntSlider(value=1, description='n_iter', max=51, min=1), Output()), _dom_classes=('widge…"
      ]
     },
     "metadata": {},
     "output_type": "display_data"
    },
    {
     "data": {
      "text/plain": [
       "<function __main__.plot_figure(n_iter)>"
      ]
     },
     "execution_count": 134,
     "metadata": {},
     "output_type": "execute_result"
    }
   ],
   "source": [
    "# Time Visualization\n",
    "from ipywidgets import IntSlider, interact\n",
    "\n",
    "def plot_figure(n_iter):\n",
    "    fig = gradient_descent_visualization(\n",
    "        gradient_losses, gradient_ws, grid_losses, grid_w0, grid_w1, mean_x, std_x, height, weight, n_iter)\n",
    "    fig.set_size_inches(10.0, 6.0)\n",
    "\n",
    "interact(plot_figure, n_iter=IntSlider(min=1, max=len(gradient_ws)))"
   ]
  },
  {
   "cell_type": "code",
   "execution_count": 135,
   "metadata": {},
   "outputs": [],
   "source": [
    "N = len(y)\n",
    "e = compute_error_vec(y, tx, [73.29392200210519, 13.479712434989048])"
   ]
  },
  {
   "cell_type": "code",
   "execution_count": 136,
   "metadata": {},
   "outputs": [
    {
     "data": {
      "text/plain": [
       "69.21874468427745"
      ]
     },
     "execution_count": 136,
     "metadata": {},
     "output_type": "execute_result"
    }
   ],
   "source": [
    "e.T @ e / (2*N)"
   ]
  },
  {
   "cell_type": "markdown",
   "metadata": {},
   "source": [
    "# 4 Stochastic gradient descent"
   ]
  },
  {
   "cell_type": "code",
   "execution_count": 137,
   "metadata": {},
   "outputs": [
    {
     "name": "stdout",
     "output_type": "stream",
     "text": [
      "[108.82253199]\n",
      "[[1.         2.20008905]]\n"
     ]
    }
   ],
   "source": [
    "for minibatch_y, minibatch_tx in batch_iter(y, tx, 1):\n",
    "    print(minibatch_y)\n",
    "    print(minibatch_tx)\n",
    "    # print(minibatch_y.shape)\n",
    "    # print(minibatch_tx.shape)"
   ]
  },
  {
   "cell_type": "code",
   "execution_count": 138,
   "metadata": {},
   "outputs": [],
   "source": [
    "def compute_stoch_gradient(y, tx, w):\n",
    "    \"\"\"Compute a stochastic gradient from just few examples n and their corresponding y_n labels.\"\"\"\n",
    "    # ***************************************************\n",
    "    # INSERT YOUR CODE HERE\n",
    "    # TODO: implement stochastic gradient computation.It's same as the gradient descent.\n",
    "    # ***************************************************\n",
    "    return compute_gradient(y, tx, w)\n",
    "\n",
    "    # for minibatch_y, minibatch_tx in batch_iter(y, tx, batch_size=1):\n",
    "    #     return compute_gradient(minibatch_y, minibatch_tx, w)\n",
    "\n",
    "def stochastic_gradient_descent(\n",
    "        y, tx, initial_w, batch_size, max_iters, gamma):\n",
    "    \"\"\"Stochastic gradient descent algorithm.\"\"\"\n",
    "    # ***************************************************\n",
    "    # INSERT YOUR CODE HERE\n",
    "    # TODO: implement stochastic gradient descent.\n",
    "    # ***************************************************\n",
    "    # Define parameters to store w and loss\n",
    "    N = len(y)\n",
    "    ws = [initial_w]\n",
    "    losses = []\n",
    "    w = initial_w\n",
    "    for n_iter in range(max_iters):\n",
    "        # ***************************************************\n",
    "        # INSERT YOUR CODE HERE\n",
    "        # TODO: compute gradient and loss\n",
    "        # ***************************************************\n",
    "        for minibatch_y, minibatch_tx in batch_iter(y, tx, batch_size):\n",
    "        # stoch_gradient = compute_stoch_gradient(minibatch_y, minibatch_tx, w) for minibatch_y, minibatch_tx in batch_iter(y, tx, batch_size)\n",
    "            stoch_gradient = compute_stoch_gradient(minibatch_y, minibatch_tx, w)\n",
    "            e = compute_error_vec(minibatch_y, minibatch_tx, w)\n",
    "            loss = e.T @ e / (2 * N)\n",
    "            # ***************************************************\n",
    "            # INSERT YOUR CODE HERE\n",
    "            # TODO: update w by gradient\n",
    "            # ***************************************************\n",
    "            # w -= gamma * gradient\n",
    "            w = w - gamma * stoch_gradient\n",
    "            # store w and loss\n",
    "            ws.append(w)\n",
    "            losses.append(loss)\n",
    "            print(\"Stochastic Gradient Descent({bi}/{ti}): loss={l}, w0={w0}, w1={w1}\".format(\n",
    "                  bi=n_iter, ti=max_iters - 1, l=loss, w0=w[0], w1=w[1]))\n",
    "\n",
    "    return losses, ws"
   ]
  },
  {
   "cell_type": "code",
   "execution_count": 139,
   "metadata": {},
   "outputs": [
    {
     "name": "stdout",
     "output_type": "stream",
     "text": [
      "Stochastic Gradient Descent(0/49): loss=15.12022945161985, w0=7.815735856881564, w1=2.260276086070039\n",
      "Stochastic Gradient Descent(1/49): loss=14.254888041556352, w0=15.404526780861989, w1=7.140733189170231\n",
      "Stochastic Gradient Descent(2/49): loss=4.96023026808361, w0=19.881057835490985, w1=5.404605381511164\n",
      "Stochastic Gradient Descent(3/49): loss=5.0298832165075, w0=24.38890967363854, w1=4.233440722149872\n",
      "Stochastic Gradient Descent(4/49): loss=8.323169532282815, w0=30.187668584855885, w1=5.176321628424395\n",
      "Stochastic Gradient Descent(5/49): loss=7.168104811462566, w0=35.56903861843551, w1=6.685754359580085\n",
      "Stochastic Gradient Descent(6/49): loss=2.746988010496552, w0=38.90037942393802, w1=1.7985241676881314\n",
      "Stochastic Gradient Descent(7/49): loss=6.382814161044149, w0=43.97842719947326, w1=9.462032629225643\n",
      "Stochastic Gradient Descent(8/49): loss=1.3105483742326551, w0=46.27943033547719, w1=6.251155397388372\n",
      "Stochastic Gradient Descent(9/49): loss=2.645308349239677, w0=49.54853506474609, w1=8.018992820228252\n",
      "Stochastic Gradient Descent(10/49): loss=2.448355918036834, w0=52.69358799098896, w1=9.939798334345198\n",
      "Stochastic Gradient Descent(11/49): loss=1.1059710558775264, w0=54.807381515850174, w1=9.385785797501777\n",
      "Stochastic Gradient Descent(12/49): loss=1.9424332379670157, w0=57.60870803758711, w1=10.171536250672446\n",
      "Stochastic Gradient Descent(13/49): loss=0.16525951781347806, w0=58.42580561558282, w1=9.99591084221316\n",
      "Stochastic Gradient Descent(14/49): loss=0.35628953210288256, w0=59.625559636078535, w1=8.83326864833937\n",
      "Stochastic Gradient Descent(15/49): loss=0.1623753183954925, w0=60.43549561275681, w1=8.427910810776229\n",
      "Stochastic Gradient Descent(16/49): loss=0.8271805864308502, w0=62.263557310069196, w1=11.479026219656658\n",
      "Stochastic Gradient Descent(17/49): loss=0.6007269871147384, w0=63.82142027835092, w1=11.916385304634213\n",
      "Stochastic Gradient Descent(18/49): loss=0.6411641610428578, w0=65.43086217249098, w1=11.03780020695589\n",
      "Stochastic Gradient Descent(19/49): loss=0.2024779674867422, w0=66.33530177171606, w1=11.853301531455477\n",
      "Stochastic Gradient Descent(20/49): loss=0.3986782251267503, w0=67.60441958717374, w1=11.218855155532507\n",
      "Stochastic Gradient Descent(21/49): loss=0.282889605441068, w0=68.67347244179876, w1=11.259131951867499\n",
      "Stochastic Gradient Descent(22/49): loss=0.12668932289688725, w0=69.38889180448294, w1=11.798819601859353\n",
      "Stochastic Gradient Descent(23/49): loss=0.00272317154196681, w0=69.28400323013118, w1=11.735355832985073\n",
      "Stochastic Gradient Descent(24/49): loss=0.1118040743909014, w0=69.95608094925244, w1=12.098796053263715\n",
      "Stochastic Gradient Descent(25/49): loss=0.004991270921145663, w0=69.81407836293293, w1=12.18517138774129\n",
      "Stochastic Gradient Descent(26/49): loss=0.18479931443329325, w0=70.67813231397447, w1=12.712882568626826\n",
      "Stochastic Gradient Descent(27/49): loss=0.25626018985131377, w0=71.69562490215353, w1=14.9514568752592\n",
      "Stochastic Gradient Descent(28/49): loss=0.1786920675986656, w0=70.84596852861266, w1=15.280978113704245\n",
      "Stochastic Gradient Descent(29/49): loss=0.22745161111405407, w0=69.8873734582619, w1=15.203866514567421\n",
      "Stochastic Gradient Descent(30/49): loss=0.017170447775779706, w0=70.15075266969316, w1=15.520369376239895\n",
      "Stochastic Gradient Descent(31/49): loss=0.11666328921051324, w0=70.8372799367485, w1=16.238246021899993\n",
      "Stochastic Gradient Descent(32/49): loss=0.19241842697288156, w0=69.9555937992991, w1=15.475709498762363\n",
      "Stochastic Gradient Descent(33/49): loss=0.0038896230907588068, w0=69.83023799653486, w1=15.56614793188095\n",
      "Stochastic Gradient Descent(34/49): loss=0.003566008971064664, w0=69.7102101820788, w1=15.638720079233936\n",
      "Stochastic Gradient Descent(35/49): loss=0.3192349693917201, w0=70.84586386007335, w1=15.957262164637058\n",
      "Stochastic Gradient Descent(36/49): loss=0.04040769925873212, w0=71.24990235453308, w1=16.0083600550205\n",
      "Stochastic Gradient Descent(37/49): loss=0.00016496532658493994, w0=71.2757182395538, w1=16.013240124937482\n",
      "Stochastic Gradient Descent(38/49): loss=0.016861749689238176, w0=71.53671913753027, w1=15.975850963582953\n",
      "Stochastic Gradient Descent(39/49): loss=0.033767302257148635, w0=71.16736848961033, w1=16.20811725292196\n",
      "Stochastic Gradient Descent(40/49): loss=0.05557355779471165, w0=71.64120092147905, w1=15.686344441585387\n",
      "Stochastic Gradient Descent(41/49): loss=0.0017988244995743377, w0=71.55595274860549, w1=15.65409808906733\n",
      "Stochastic Gradient Descent(42/49): loss=0.2279931596820475, w0=72.51568831901824, w1=16.035424296281693\n",
      "Stochastic Gradient Descent(43/49): loss=0.016655302920298654, w0=72.77508651445916, w1=16.135529191316476\n",
      "Stochastic Gradient Descent(44/49): loss=0.1645053153259813, w0=73.5903174473346, w1=16.36419517151376\n",
      "Stochastic Gradient Descent(45/49): loss=0.131214873920021, w0=74.31840266943217, w1=16.653481079872765\n",
      "Stochastic Gradient Descent(46/49): loss=0.009252300048842046, w0=74.12506541953624, w1=16.276371401201487\n",
      "Stochastic Gradient Descent(47/49): loss=0.004494091745357329, w0=73.99032073262339, w1=16.297579082465766\n",
      "Stochastic Gradient Descent(48/49): loss=0.019611785434050406, w0=73.70883962641275, w1=16.626774601810745\n",
      "Stochastic Gradient Descent(49/49): loss=0.4829233197671835, w0=72.31205395500163, w1=16.654221831305055\n",
      "SGD: execution time=0.025 seconds\n"
     ]
    }
   ],
   "source": [
    "# from stochastic_gradient_descent import *\n",
    "\n",
    "# Define the parameters of the algorithm.\n",
    "max_iters = 50\n",
    "gamma = 0.1\n",
    "# gamma = 0.7\n",
    "batch_size = 1\n",
    "\n",
    "# Initialization\n",
    "w_initial = np.array([0, 0])\n",
    "\n",
    "# Start SGD.\n",
    "start_time = datetime.datetime.now()\n",
    "sgd_losses, sgd_ws = stochastic_gradient_descent(\n",
    "    y, tx, w_initial, batch_size, max_iters, gamma)\n",
    "end_time = datetime.datetime.now()\n",
    "\n",
    "# Print result\n",
    "exection_time = (end_time - start_time).total_seconds()\n",
    "print(\"SGD: execution time={t:.3f} seconds\".format(t=exection_time))"
   ]
  },
  {
   "cell_type": "code",
   "execution_count": 140,
   "metadata": {},
   "outputs": [
    {
     "data": {
      "application/vnd.jupyter.widget-view+json": {
       "model_id": "8340a2b6967543abbc6113f20b84c04a",
       "version_major": 2,
       "version_minor": 0
      },
      "text/plain": [
       "interactive(children=(IntSlider(value=1, description='n_iter', max=51, min=1), Output()), _dom_classes=('widge…"
      ]
     },
     "metadata": {},
     "output_type": "display_data"
    },
    {
     "data": {
      "text/plain": [
       "<function __main__.plot_figure(n_iter)>"
      ]
     },
     "execution_count": 140,
     "metadata": {},
     "output_type": "execute_result"
    }
   ],
   "source": [
    "# Time Visualization\n",
    "from ipywidgets import IntSlider, interact\n",
    "def plot_figure(n_iter):\n",
    "    fig = gradient_descent_visualization(\n",
    "        sgd_losses, sgd_ws, grid_losses, grid_w0, grid_w1, mean_x, std_x, height, weight, n_iter)\n",
    "    fig.set_size_inches(10.0, 6.0)\n",
    "\n",
    "interact(plot_figure, n_iter=IntSlider(min=1, max=len(gradient_ws)))"
   ]
  },
  {
   "cell_type": "markdown",
   "metadata": {},
   "source": [
    "### Test implementation of SGD returning only last parameter"
   ]
  },
  {
   "cell_type": "code",
   "execution_count": 171,
   "metadata": {},
   "outputs": [],
   "source": [
    "def gradient_descent_2(\n",
    "        y, tx, initial_w, max_iters, gamma):\n",
    "    \"\"\"Gradient descent algorithm.\"\"\"\n",
    "    # model's weights' vector\n",
    "    w = initial_w\n",
    "    for n_iter in range(max_iters):\n",
    "        # number of data points\n",
    "        N = len(y)\n",
    "        # compute stochastic gradient\n",
    "        stoch_gradient = compute_stoch_gradient(y, tx, w)\n",
    "        # compute error\n",
    "        e = compute_error_vec(y, tx, w)\n",
    "        # compute loss\n",
    "        loss = e.T @ e / (2 * N)\n",
    "        # update weights' vector\n",
    "        w = w - gamma * stoch_gradient\n",
    "\n",
    "    return loss, w"
   ]
  },
  {
   "cell_type": "code",
   "execution_count": null,
   "metadata": {},
   "outputs": [],
   "source": [
    "np.array()"
   ]
  },
  {
   "cell_type": "code",
   "execution_count": 172,
   "metadata": {},
   "outputs": [
    {
     "data": {
      "text/plain": [
       "(65.93073010260338, array([74.06780585, 11.03489487]))"
      ]
     },
     "execution_count": 172,
     "metadata": {},
     "output_type": "execute_result"
    }
   ],
   "source": [
    "gradient_descent_2(y, tx, initial_w, max_iters, gamma)"
   ]
  },
  {
   "cell_type": "code",
   "execution_count": 21,
   "metadata": {},
   "outputs": [],
   "source": [
    "def stochastic_gradient_descent_2(\n",
    "        y, tx, initial_w, batch_size, max_iters, gamma):\n",
    "    \"\"\"Stochastic gradient descent algorithm.\"\"\"\n",
    "    # model's weights' vector\n",
    "    w = initial_w\n",
    "    for n_iter in range(max_iters):\n",
    "        for minibatch_y, minibatch_tx in batch_iter(y, tx, batch_size):\n",
    "            # number of data points\n",
    "            N = len(minibatch_y)\n",
    "            # compute stochastic gradient\n",
    "            stoch_gradient = compute_stoch_gradient(minibatch_y, minibatch_tx, w)\n",
    "            # compute error\n",
    "            e = compute_error_vec(minibatch_y, minibatch_tx, w)\n",
    "            # compute loss\n",
    "            loss = e.T @ e / (2 * N)\n",
    "            # update weights' vector\n",
    "            w = w - gamma * stoch_gradient\n",
    "\n",
    "    return loss, w\n"
   ]
  },
  {
   "cell_type": "code",
   "execution_count": 173,
   "metadata": {},
   "outputs": [
    {
     "data": {
      "text/plain": [
       "(14.005182406332784, array([75.88729955, 21.26056709]))"
      ]
     },
     "execution_count": 173,
     "metadata": {},
     "output_type": "execute_result"
    }
   ],
   "source": [
    "stochastic_gradient_descent_2( y, tx, initial_w, batch_size, max_iters, gamma)"
   ]
  },
  {
   "cell_type": "code",
   "execution_count": 22,
   "metadata": {},
   "outputs": [],
   "source": [
    "# from stochastic_gradient_descent import *\n",
    "\n",
    "# Define the parameters of the algorithm.\n",
    "max_iters = 1000\n",
    "gamma = 0.01\n",
    "# gamma = 0.7\n",
    "batch_size = 1\n",
    "\n",
    "# Initialization\n",
    "# w_initial = np.array([0, 0])\n",
    "initial_w = np.array([0, 0])\n",
    "\n",
    "# # Start SGD.\n",
    "# start_time = datetime.datetime.now()\n",
    "# sgd_losses, sgd_ws = stochastic_gradient_descent(\n",
    "#     y, tx, w_initial, batch_size, max_iters, gamma)\n",
    "# end_time = datetime.datetime.now()\n",
    "\n",
    "# # Print result\n",
    "# exection_time = (end_time - start_time).total_seconds()\n",
    "# print(\"SGD: execution time={t:.3f} seconds\".format(t=exection_time))"
   ]
  },
  {
   "cell_type": "code",
   "execution_count": 23,
   "metadata": {},
   "outputs": [
    {
     "data": {
      "text/plain": [
       "(2.930052767335984, array([72.81023465, 13.43721703]))"
      ]
     },
     "execution_count": 23,
     "metadata": {},
     "output_type": "execute_result"
    }
   ],
   "source": [
    "loss, w = stochastic_gradient_descent_2(y, tx, initial_w, batch_size, max_iters, gamma)\n",
    "loss, w"
   ]
  },
  {
   "cell_type": "markdown",
   "metadata": {},
   "source": [
    "# 5 Effect of Outliers and MAE Cost Function, and Subgradient Descent"
   ]
  },
  {
   "cell_type": "markdown",
   "metadata": {},
   "source": [
    "### Exercise 5\n",
    "\n",
    "Load and plot data containing outliers"
   ]
  },
  {
   "cell_type": "code",
   "execution_count": 31,
   "metadata": {},
   "outputs": [],
   "source": [
    "import datetime\n",
    "from helpers import *\n",
    "\n",
    "height, weight, gender = load_data(sub_sample=True, add_outlier=True)\n",
    "# height, weight, gender = load_data(sub_sample=True, add_outlier=False)\n",
    "# height, weight, gender = load_data(sub_sample=False, add_outlier=False)\n",
    "x, mean_x, std_x = standardize(height)\n",
    "y, tx = build_model_data(x, weight)"
   ]
  },
  {
   "cell_type": "code",
   "execution_count": 32,
   "metadata": {},
   "outputs": [
    {
     "name": "stdout",
     "output_type": "stream",
     "text": [
      "Gradient Descent(0/49): loss=2869.8351145358524, w0=7.4067805854926325, w1=1.103489486598918\n",
      "Gradient Descent(1/49): loss=2337.0932814935354, w0=14.072883112436008, w1=2.0966300245379443\n",
      "Gradient Descent(2/49): loss=1905.5723967292586, w0=20.07237538668505, w1=2.990456508683065\n",
      "Gradient Descent(3/49): loss=1556.0404800701936, w0=25.47191843350918, w1=3.7949003444136746\n",
      "Gradient Descent(4/49): loss=1272.9196275763516, w0=30.3315071756509, w1=4.5188997965712225\n",
      "Gradient Descent(5/49): loss=1043.5917370563393, w0=34.705137043578446, w1=5.170499303513016\n",
      "Gradient Descent(6/49): loss=857.8361457351293, w0=38.64140392471324, w1=5.756938859760629\n",
      "Gradient Descent(7/49): loss=707.3741167649493, w0=42.18404411773455, w1=6.284734460383481\n",
      "Gradient Descent(8/49): loss=585.4998732991036, w0=45.37242029145373, w1=6.7597505009440475\n",
      "Gradient Descent(9/49): loss=486.78173609176866, w0=48.241958847800994, w1=7.187264937448556\n",
      "Gradient Descent(10/49): loss=406.8200449538272, w0=50.82454354851353, w1=7.572027930302615\n",
      "Gradient Descent(11/49): loss=342.0510751320946, w0=53.148869779154815, w1=7.918314623871265\n",
      "Gradient Descent(12/49): loss=289.58820957649135, w0=55.24076338673197, w1=8.229972648083052\n",
      "Gradient Descent(13/49): loss=247.09328847645256, w0=57.12346763355141, w1=8.51046486987366\n",
      "Gradient Descent(14/49): loss=212.67240238542126, w0=58.817901455688904, w1=8.762907869485206\n",
      "Gradient Descent(15/49): loss=184.79148465168583, w0=60.34289189561265, w1=8.990106569135598\n",
      "Gradient Descent(16/49): loss=162.20794128736017, w0=61.71538329154402, w1=9.19458539882095\n",
      "Gradient Descent(17/49): loss=143.91527116225637, w0=62.950625547882254, w1=9.378616345537766\n",
      "Gradient Descent(18/49): loss=129.0982083609223, w0=64.06234357858666, w1=9.5442441975829\n",
      "Gradient Descent(19/49): loss=117.09638749184175, w0=65.06288980622064, w1=9.69330926442352\n",
      "Gradient Descent(20/49): loss=107.37491258788639, w0=65.9633814110912, w1=9.82746782458008\n",
      "Gradient Descent(21/49): loss=99.50051791568269, w0=66.77382385547472, w1=9.948210528720981\n",
      "Gradient Descent(22/49): loss=93.12225823119766, w0=67.50322205541988, w1=10.056878962447794\n",
      "Gradient Descent(23/49): loss=87.95586788676472, w0=68.15968043537053, w1=10.154680552801926\n",
      "Gradient Descent(24/49): loss=83.77109170777408, w0=68.75049297732612, w1=10.242701984120645\n",
      "Gradient Descent(25/49): loss=80.3814230027916, w0=69.28222426508614, w1=10.321921272307492\n",
      "Gradient Descent(26/49): loss=77.63579135175586, w0=69.76078242407017, w1=10.393218631675653\n",
      "Gradient Descent(27/49): loss=75.41182971441687, w0=70.19148476715579, w1=10.457386255106998\n",
      "Gradient Descent(28/49): loss=73.6104207881723, w0=70.57911687593284, w1=10.51513711619521\n",
      "Gradient Descent(29/49): loss=72.15127955791424, w0=70.92798577383219, w1=10.567112891174599\n",
      "Gradient Descent(30/49): loss=70.96937516140517, w0=71.24196778194161, w1=10.613891088656048\n",
      "Gradient Descent(31/49): loss=70.01203260023281, w0=71.52455158924009, w1=10.655991466389354\n",
      "Gradient Descent(32/49): loss=69.23658512568323, w0=71.77887701580872, w1=10.693881806349328\n",
      "Gradient Descent(33/49): loss=68.60847267129805, w0=72.00776989972049, w1=10.727983112313305\n",
      "Gradient Descent(34/49): loss=68.09970158324606, w0=72.21377349524107, w1=10.758674287680885\n",
      "Gradient Descent(35/49): loss=67.68759700192396, w0=72.39917673120961, w1=10.786296345511706\n",
      "Gradient Descent(36/49): loss=67.35379229105303, w0=72.56603964358128, w1=10.811156197559447\n",
      "Gradient Descent(37/49): loss=67.0834104752476, w0=72.71621626471578, w1=10.833530064402412\n",
      "Gradient Descent(38/49): loss=66.86440120444522, w0=72.85137522373684, w1=10.853666544561081\n",
      "Gradient Descent(39/49): loss=66.68700369509527, w0=72.97301828685579, w1=10.871789376703884\n",
      "Gradient Descent(40/49): loss=66.5433117125218, w0=73.08249704366285, w1=10.888099925632405\n",
      "Gradient Descent(41/49): loss=66.4269212066373, w0=73.1810279247892, w1=10.902779419668075\n",
      "Gradient Descent(42/49): loss=66.33264489687083, w0=73.26970571780292, w1=10.915990964300178\n",
      "Gradient Descent(43/49): loss=66.25628108596004, w0=73.34951573151527, w1=10.92788135446907\n",
      "Gradient Descent(44/49): loss=66.19442639912226, w0=73.42134474385638, w1=10.938582705621073\n",
      "Gradient Descent(45/49): loss=66.14432410278366, w0=73.48599085496338, w1=10.948213921657876\n",
      "Gradient Descent(46/49): loss=66.10374124274941, w0=73.54417235495967, w1=10.956882016090999\n",
      "Gradient Descent(47/49): loss=66.07086912612166, w0=73.59653570495634, w1=10.96468330108081\n",
      "Gradient Descent(48/49): loss=66.04424271165321, w0=73.64366271995334, w1=10.971704457571638\n",
      "Gradient Descent(49/49): loss=66.02267531593374, w0=73.68607703345064, w1=10.978023498413384\n",
      "Gradient Descent: execution time=0.012 seconds\n"
     ]
    }
   ],
   "source": [
    "# from gradient_descent import *\n",
    "from plots import gradient_descent_visualization\n",
    "\n",
    "# Define the parameters of the algorithm.\n",
    "max_iters = 50\n",
    "# max_iters = 100\n",
    "# gamma = 0.7\n",
    "# gamma = 0.001\n",
    "gamma = 0.1\n",
    "# gamma = 0.1\n",
    "# gamma = 0.5\n",
    "# gamma = 1\n",
    "# gamma = 2\n",
    "# gamma = 2.5\n",
    "\n",
    "# Initialization\n",
    "w_initial = np.array([0, 0])\n",
    "# w_initial = np.array([100, 10])\n",
    "# w_initial = np.array([-1000, 1000])\n",
    "\n",
    "# Start gradient descent.\n",
    "start_time = datetime.datetime.now()\n",
    "gradient_losses, gradient_ws = gradient_descent(y, tx, w_initial, max_iters, gamma)\n",
    "end_time = datetime.datetime.now()\n",
    "\n",
    "# Print result\n",
    "exection_time = (end_time - start_time).total_seconds()\n",
    "print(\"Gradient Descent: execution time={t:.3f} seconds\".format(t=exection_time))"
   ]
  },
  {
   "cell_type": "code",
   "execution_count": 33,
   "metadata": {},
   "outputs": [
    {
     "data": {
      "application/vnd.jupyter.widget-view+json": {
       "model_id": "",
       "version_major": 2,
       "version_minor": 0
      },
      "text/plain": [
       "interactive(children=(IntSlider(value=1, description='n_iter', max=51, min=1), Output()), _dom_classes=('widge…"
      ]
     },
     "metadata": {},
     "output_type": "display_data"
    },
    {
     "data": {
      "text/plain": [
       "<function __main__.plot_figure(n_iter)>"
      ]
     },
     "execution_count": 33,
     "metadata": {},
     "output_type": "execute_result"
    }
   ],
   "source": [
    "# Time Visualization\n",
    "from ipywidgets import IntSlider, interact\n",
    "\n",
    "def plot_figure(n_iter):\n",
    "    fig = gradient_descent_visualization(\n",
    "        gradient_losses, gradient_ws, grid_losses, grid_w0, grid_w1, mean_x, std_x, height, weight, n_iter)\n",
    "    fig.set_size_inches(10.0, 6.0)\n",
    "\n",
    "interact(plot_figure, n_iter=IntSlider(min=1, max=len(gradient_ws)))"
   ]
  },
  {
   "cell_type": "markdown",
   "metadata": {
    "collapsed": true
   },
   "source": [
    "Compare this figure to the two last ones. We can see that most of the points are less well described here than it is with the model using the MAE loss function.\n",
    "\n",
    "This highlights the fact that MSE is less robust to outliers than MAE loss function is!"
   ]
  },
  {
   "cell_type": "markdown",
   "metadata": {},
   "source": [
    "### Exercise 6"
   ]
  },
  {
   "cell_type": "markdown",
   "metadata": {},
   "source": [
    "Modify the function `compute_loss(y, tx, w)` for the Mean Absolute Error cost function [here](#compute_loss)"
   ]
  },
  {
   "cell_type": "code",
   "execution_count": 78,
   "metadata": {},
   "outputs": [],
   "source": [
    "import datetime\n",
    "from helpers import *\n",
    "\n",
    "height, weight, gender = load_data(sub_sample=True, add_outlier=True)\n",
    "# height, weight, gender = load_data(sub_sample=True, add_outlier=False)\n",
    "# height, weight, gender = load_data(sub_sample=False, add_outlier=False)\n",
    "x, mean_x, std_x = standardize(height)\n",
    "y, tx = build_model_data(x, weight)"
   ]
  },
  {
   "cell_type": "code",
   "execution_count": 79,
   "metadata": {},
   "outputs": [
    {
     "name": "stdout",
     "output_type": "stream",
     "text": [
      "Grid Search: loss*=1103.7693555530905, w0*=71.42857142857142, w1*=15.306122448979579, execution time=0.088 seconds\n"
     ]
    },
    {
     "data": {
      "image/png": "[encoded data removed]",
      "text/plain": [
       "<Figure size 720x432 with 3 Axes>"
      ]
     },
     "metadata": {
      "needs_background": "light"
     },
     "output_type": "display_data"
    }
   ],
   "source": [
    "from grid_search import generate_w, get_best_parameters\n",
    "from plots import grid_visualization\n",
    "\n",
    "# Generate the grid of parameters to be swept\n",
    "grid_w0, grid_w1 = generate_w(num_intervals=50)\n",
    "\n",
    "# Start the grid search\n",
    "start_time = datetime.datetime.now()\n",
    "grid_losses = grid_search(y, tx, grid_w0, grid_w1, method=\"MAE\")\n",
    "\n",
    "# Select the best combinaison\n",
    "loss_star, w0_star, w1_star = get_best_parameters(grid_w0, grid_w1, grid_losses)\n",
    "end_time = datetime.datetime.now()\n",
    "execution_time = (end_time - start_time).total_seconds()\n",
    "\n",
    "# Print the results\n",
    "print(\"Grid Search: loss*={l}, w0*={w0}, w1*={w1}, execution time={t:.3f} seconds\".format(\n",
    "      l=loss_star, w0=w0_star, w1=w1_star, t=execution_time))\n",
    "\n",
    "# Plot the results\n",
    "fig = grid_visualization(grid_losses, grid_w0, grid_w1, mean_x, std_x, height, weight)\n",
    "fig.set_size_inches(10.0,6.0)\n",
    "fig.savefig(\"grid_plot\")  # Optional saving"
   ]
  },
  {
   "cell_type": "markdown",
   "metadata": {},
   "source": [
    "#### Implementation of subgradient for MAE loss function"
   ]
  },
  {
   "cell_type": "code",
   "execution_count": 141,
   "metadata": {},
   "outputs": [],
   "source": [
    "def compute_subgradient(y, tx, w):\n",
    "    \"\"\"Compute the subgradient.\"\"\"\n",
    "    N = len(y)\n",
    "    e = compute_error_vec(y, tx, w)\n",
    "    return - tx.T @ np.sign(e) / N"
   ]
  },
  {
   "cell_type": "code",
   "execution_count": 147,
   "metadata": {},
   "outputs": [],
   "source": [
    "def compute_stochastic_subgradient(y, tx, w):\n",
    "    \"\"\"Compute the stochastic subgradient.\"\"\"\n",
    "    return compute_subgradient(y, tx, w)"
   ]
  },
  {
   "cell_type": "code",
   "execution_count": 165,
   "metadata": {},
   "outputs": [],
   "source": [
    "def subgradient_descent(y, tx, initial_w, max_iters, gamma):\n",
    "    \"\"\"Subgradient descent algorithm.\"\"\"\n",
    "    # Define parameters to store w and loss\n",
    "    N = len(y)\n",
    "    ws = [initial_w]\n",
    "    losses = []\n",
    "    w = initial_w\n",
    "    for n_iter in range(max_iters):\n",
    "        # ***************************************************\n",
    "        # INSERT YOUR CODE HERE\n",
    "        # TODO: compute subgradient and loss\n",
    "        # ***************************************************\n",
    "        subgradient = compute_subgradient(y, tx, w)\n",
    "        e = compute_error_vec(y, tx, w)\n",
    "        loss = compute_loss_MAE(y, tx, w)\n",
    "        # ***************************************************\n",
    "        # INSERT YOUR CODE HERE\n",
    "        # TODO: update w by subgradient\n",
    "        # ***************************************************\n",
    "        # w -= gamma * subgradient\n",
    "        w = w - gamma * subgradient\n",
    "        # store w and loss\n",
    "        ws.append(w)\n",
    "        losses.append(loss)\n",
    "        print(\"Subgradient Descent({bi}/{ti}): loss={l}, w0={w0}, w1={w1}\".format(\n",
    "              bi=n_iter, ti=max_iters - 1, l=loss, w0=w[0], w1=w[1]))\n",
    "        # non_diff_points_bool is a boolean vector, true in element i if e[i] is close to 0\n",
    "        non_diff_points_bool = np.isclose(e, np.zeros(len(e)))\n",
    "        # if any element in e is close to zero:\n",
    "        if any(non_diff_points_bool):\n",
    "            for p in np.where(non_diff_points_ind == True):\n",
    "                print(\"Non-differentiable point encountered at w_i, i = \" + p)\n",
    "\n",
    "    return losses, ws"
   ]
  },
  {
   "cell_type": "code",
   "execution_count": 166,
   "metadata": {},
   "outputs": [],
   "source": [
    "def stochastic_subgradient_descent(y, tx, initial_w, max_iters, gamma):\n",
    "    \"\"\"Stochastic subgradient descent algorithm.\"\"\"\n",
    "    # Define parameters to store w and loss\n",
    "    N = len(y)\n",
    "    ws = [initial_w]\n",
    "    losses = []\n",
    "    w = initial_w\n",
    "    for n_iter in range(max_iters):\n",
    "        for minibatch_y, minibatch_tx in batch_iter(y, tx, batch_size=1):\n",
    "            # ***************************************************\n",
    "            # INSERT YOUR CODE HERE\n",
    "            # TODO: compute subgradient and loss\n",
    "            # ***************************************************\n",
    "            subgradient = compute_stochastic_subgradient(y, tx, w)\n",
    "            e = compute_error_vec(y, tx, w)\n",
    "            loss = compute_loss_MAE(y, tx, w)\n",
    "            # ***************************************************\n",
    "            # INSERT YOUR CODE HERE\n",
    "            # TODO: update w by subgradient\n",
    "            # ***************************************************\n",
    "            # w -= gamma * subgradient\n",
    "            w = w - gamma * subgradient\n",
    "            # store w and loss\n",
    "            ws.append(w)\n",
    "            losses.append(loss)\n",
    "            print(\"Subgradient Descent({bi}/{ti}): loss={l}, w0={w0}, w1={w1}\".format(\n",
    "                  bi=n_iter, ti=max_iters - 1, l=loss, w0=w[0], w1=w[1]))\n",
    "            # non_diff_points_bool is a boolean vector, true in element i if e[i] is close to 0\n",
    "            non_diff_points_bool = np.isclose(e, np.zeros(len(e)))\n",
    "            # if any element in e is close to zero:\n",
    "            if any(non_diff_points_bool):\n",
    "                for p in np.where(non_diff_points_ind == True):\n",
    "                    print(\"Non-differentiable point encountered at w_i, i = \" + p)\n",
    "\n",
    "    return losses, ws"
   ]
  },
  {
   "cell_type": "markdown",
   "metadata": {},
   "source": [
    "#### GD using MAE"
   ]
  },
  {
   "cell_type": "code",
   "execution_count": 163,
   "metadata": {},
   "outputs": [
    {
     "name": "stdout",
     "output_type": "stream",
     "text": [
      "Subgradient Descent(0/199): loss=14961.69678269513, w0=0.7, w1=6.109524327590712e-16\n",
      "Subgradient Descent(1/199): loss=14820.296782695132, w0=1.4, w1=1.2219048655181425e-15\n",
      "Subgradient Descent(2/199): loss=14678.89678269513, w0=2.0999999999999996, w1=1.832857298277214e-15\n",
      "Subgradient Descent(3/199): loss=14537.496782695129, w0=2.8, w1=2.443809731036285e-15\n",
      "Subgradient Descent(4/199): loss=14396.096782695127, w0=3.5, w1=3.054762163795356e-15\n",
      "Subgradient Descent(5/199): loss=14254.69678269513, w0=4.2, w1=3.665714596554428e-15\n",
      "Subgradient Descent(6/199): loss=14113.296782695132, w0=4.9, w1=4.276667029313499e-15\n",
      "Subgradient Descent(7/199): loss=13971.896782695128, w0=5.6000000000000005, w1=4.887619462072571e-15\n",
      "Subgradient Descent(8/199): loss=13830.496782695127, w0=6.300000000000001, w1=5.498571894831642e-15\n",
      "Subgradient Descent(9/199): loss=13689.096782695127, w0=7.000000000000001, w1=6.109524327590714e-15\n",
      "Subgradient Descent(10/199): loss=13547.69678269513, w0=7.700000000000001, w1=6.720476760349785e-15\n",
      "Subgradient Descent(11/199): loss=13406.296782695128, w0=8.4, w1=7.331429193108857e-15\n",
      "Subgradient Descent(12/199): loss=13264.896782695128, w0=9.1, w1=7.942381625867928e-15\n",
      "Subgradient Descent(13/199): loss=13123.496782695125, w0=9.799999999999999, w1=8.553334058627e-15\n",
      "Subgradient Descent(14/199): loss=12982.096782695127, w0=10.499999999999998, w1=9.164286491386072e-15\n",
      "Subgradient Descent(15/199): loss=12840.69678269513, w0=11.199999999999998, w1=9.775238924145143e-15\n",
      "Subgradient Descent(16/199): loss=12699.296782695128, w0=11.899999999999997, w1=1.0386191356904215e-14\n",
      "Subgradient Descent(17/199): loss=12557.896782695128, w0=12.599999999999996, w1=1.0997143789663286e-14\n",
      "Subgradient Descent(18/199): loss=12416.496782695127, w0=13.299999999999995, w1=1.1608096222422358e-14\n",
      "Subgradient Descent(19/199): loss=12275.096782695131, w0=13.999999999999995, w1=1.2219048655181429e-14\n",
      "Subgradient Descent(20/199): loss=12133.69678269513, w0=14.699999999999994, w1=1.28300010879405e-14\n",
      "Subgradient Descent(21/199): loss=11992.296782695132, w0=15.399999999999993, w1=1.3440953520699572e-14\n",
      "Subgradient Descent(22/199): loss=11850.89678269513, w0=16.099999999999994, w1=1.4051905953458644e-14\n",
      "Subgradient Descent(23/199): loss=11709.496782695129, w0=16.799999999999994, w1=1.4662858386217714e-14\n",
      "Subgradient Descent(24/199): loss=11568.096782695131, w0=17.499999999999993, w1=1.5273810818976784e-14\n",
      "Subgradient Descent(25/199): loss=11426.69678269513, w0=18.199999999999992, w1=1.5884763251735854e-14\n",
      "Subgradient Descent(26/199): loss=11285.296782695132, w0=18.89999999999999, w1=1.6495715684494924e-14\n",
      "Subgradient Descent(27/199): loss=11143.89678269513, w0=19.59999999999999, w1=1.7106668117253994e-14\n",
      "Subgradient Descent(28/199): loss=11002.496782695129, w0=20.29999999999999, w1=1.7717620550013064e-14\n",
      "Subgradient Descent(29/199): loss=10861.096782695131, w0=20.99999999999999, w1=1.8328572982772134e-14\n",
      "Subgradient Descent(30/199): loss=10719.696782695131, w0=21.69999999999999, w1=1.8939525415531204e-14\n",
      "Subgradient Descent(31/199): loss=10578.296782695132, w0=22.399999999999988, w1=1.9550477848290273e-14\n",
      "Subgradient Descent(32/199): loss=10436.89678269513, w0=23.099999999999987, w1=2.0161430281049343e-14\n",
      "Subgradient Descent(33/199): loss=10295.496782695129, w0=23.799999999999986, w1=2.0772382713808413e-14\n",
      "Subgradient Descent(34/199): loss=10154.096782695131, w0=24.499999999999986, w1=2.1383335146567483e-14\n",
      "Subgradient Descent(35/199): loss=10012.696782695133, w0=25.199999999999985, w1=2.1994287579326553e-14\n",
      "Subgradient Descent(36/199): loss=9871.296782695132, w0=25.899999999999984, w1=2.2605240012085623e-14\n",
      "Subgradient Descent(37/199): loss=9729.89678269513, w0=26.599999999999984, w1=2.3216192444844693e-14\n",
      "Subgradient Descent(38/199): loss=9588.496782695129, w0=27.299999999999983, w1=2.3827144877603763e-14\n",
      "Subgradient Descent(39/199): loss=9447.096782695133, w0=27.999999999999982, w1=2.4438097310362833e-14\n",
      "Subgradient Descent(40/199): loss=9305.696782695133, w0=28.69999999999998, w1=2.5049049743121903e-14\n",
      "Subgradient Descent(41/199): loss=9164.296782695132, w0=29.39999999999998, w1=2.5660002175880973e-14\n",
      "Subgradient Descent(42/199): loss=9022.896782695132, w0=30.09999999999998, w1=2.6270954608640043e-14\n",
      "Subgradient Descent(43/199): loss=8881.496782695132, w0=30.79999999999998, w1=2.6881907041399113e-14\n",
      "Subgradient Descent(44/199): loss=8740.096782695135, w0=31.49999999999998, w1=2.7492859474158183e-14\n",
      "Subgradient Descent(45/199): loss=8598.696782695133, w0=32.19999999999998, w1=2.8103811906917253e-14\n",
      "Subgradient Descent(46/199): loss=8457.296782695132, w0=32.899999999999984, w1=2.871476433967632e-14\n",
      "Subgradient Descent(47/199): loss=8315.896782695132, w0=33.59999999999999, w1=2.9325716772435396e-14\n",
      "Subgradient Descent(48/199): loss=8174.496782695129, w0=34.29999999999999, w1=2.993666920519447e-14\n",
      "Subgradient Descent(49/199): loss=8033.09678269513, w0=34.99999999999999, w1=3.054762163795354e-14\n",
      "Subgradient Descent(50/199): loss=7891.6967826951295, w0=35.699999999999996, w1=3.1158574070712615e-14\n",
      "Subgradient Descent(51/199): loss=7750.296782695128, w0=36.4, w1=3.176952650347169e-14\n",
      "Subgradient Descent(52/199): loss=7608.89678269513, w0=37.1, w1=3.238047893623076e-14\n",
      "Subgradient Descent(53/199): loss=7467.496782695128, w0=37.800000000000004, w1=3.2991431368989835e-14\n",
      "Subgradient Descent(54/199): loss=7326.096782695127, w0=38.50000000000001, w1=3.360238380174891e-14\n",
      "Subgradient Descent(55/199): loss=7184.696782695128, w0=39.20000000000001, w1=3.421333623450798e-14\n",
      "Subgradient Descent(56/199): loss=7043.296782695126, w0=39.90000000000001, w1=3.4824288667267054e-14\n",
      "Subgradient Descent(57/199): loss=6901.896782695127, w0=40.600000000000016, w1=3.543524110002613e-14\n",
      "Subgradient Descent(58/199): loss=6760.496782695125, w0=41.30000000000002, w1=3.60461935327852e-14\n",
      "Subgradient Descent(59/199): loss=6619.096782695124, w0=42.00000000000002, w1=3.6657145965544273e-14\n",
      "Subgradient Descent(60/199): loss=6477.696782695124, w0=42.700000000000024, w1=3.7268098398303347e-14\n",
      "Subgradient Descent(61/199): loss=6336.296782695123, w0=43.40000000000003, w1=3.787905083106242e-14\n",
      "Subgradient Descent(62/199): loss=6194.896782695123, w0=44.10000000000003, w1=3.849000326382149e-14\n",
      "Subgradient Descent(63/199): loss=6053.496782695123, w0=44.80000000000003, w1=3.9100955696580566e-14\n",
      "Subgradient Descent(64/199): loss=5912.096782695121, w0=45.500000000000036, w1=3.971190812933964e-14\n",
      "Subgradient Descent(65/199): loss=5770.69678269512, w0=46.20000000000004, w1=4.032286056209871e-14\n",
      "Subgradient Descent(66/199): loss=5629.296782695121, w0=46.90000000000004, w1=4.0933812994857785e-14\n",
      "Subgradient Descent(67/199): loss=5489.000582353121, w0=47.59306930693074, w1=0.011147845678271063\n",
      "Subgradient Descent(68/199): loss=5351.071215877742, w0=48.279207920792125, w1=0.03308574108989941\n",
      "Subgradient Descent(69/199): loss=5215.076889199575, w0=48.96534653465351, w1=0.05502363650152776\n",
      "Subgradient Descent(70/199): loss=5081.317965800603, w0=49.63069306930698, w1=0.10538326388307814\n",
      "Subgradient Descent(71/199): loss=4953.868889606745, w0=50.28910891089114, w1=0.16746568532793435\n",
      "Subgradient Descent(72/199): loss=4827.65765989919, w0=50.947524752475296, w1=0.22954810677279056\n",
      "Subgradient Descent(73/199): loss=4703.447370982743, w0=51.59207920792084, w1=0.31242512932747524\n",
      "Subgradient Descent(74/199): loss=4582.749041724734, w0=52.22277227722777, w1=0.4119501328839991\n",
      "Subgradient Descent(75/199): loss=4465.466049067391, w0=52.84653465346539, w1=0.5208167847923756\n",
      "Subgradient Descent(76/199): loss=4350.639403257703, w0=53.4564356435644, w1=0.6457900912635992\n",
      "Subgradient Descent(77/199): loss=4239.24065467495, w0=54.0594059405941, w1=0.7796904498577214\n",
      "Subgradient Descent(78/199): loss=4130.00330919733, w0=54.655445544554496, w1=0.9197570104995693\n",
      "Subgradient Descent(79/199): loss=4022.205852109486, w0=55.24455445544559, w1=1.0670920297849913\n",
      "Subgradient Descent(80/199): loss=3916.7081062937723, w0=55.819801980198065, w1=1.2261255948210765\n",
      "Subgradient Descent(81/199): loss=3815.373791007969, w0=56.36732673267331, w1=1.410709342622213\n",
      "Subgradient Descent(82/199): loss=3720.024021374555, w0=56.900990099009945, w1=1.605853732220269\n",
      "Subgradient Descent(83/199): loss=3626.889505694158, w0=57.42772277227727, w1=1.808762802293962\n",
      "Subgradient Descent(84/199): loss=3536.1630466291244, w0=57.933663366336674, w1=2.0285064197514697\n",
      "Subgradient Descent(85/199): loss=3449.141400240186, w0=58.43267326732677, w1=2.2494370848672776\n",
      "Subgradient Descent(86/199): loss=3363.8993940970004, w0=58.91089108910895, w1=2.4837982986028337\n",
      "Subgradient Descent(87/199): loss=3282.205227762339, w0=59.382178217821824, w1=2.7260245553531504\n",
      "Subgradient Descent(88/199): loss=3201.51925295614, w0=59.83960396039608, w1=2.978742333469136\n",
      "Subgradient Descent(89/199): loss=3124.3177978287285, w0=60.262376237623805, w1=3.251528669355438\n",
      "Subgradient Descent(90/199): loss=3051.8755135454676, w0=60.67821782178222, w1=3.5270865794242794\n",
      "Subgradient Descent(91/199): loss=2980.489061876412, w0=61.087128712871326, w1=3.806459183951815\n",
      "Subgradient Descent(92/199): loss=2909.7148502472965, w0=61.49603960396043, w1=4.085831788479351\n",
      "Subgradient Descent(93/199): loss=2839.2689796817103, w0=61.891089108910926, w1=4.373839384328607\n",
      "Subgradient Descent(94/199): loss=2770.3534241443385, w0=62.27920792079211, w1=4.666037469532047\n",
      "Subgradient Descent(95/199): loss=2703.009734071399, w0=62.65346534653469, w1=4.959829093241769\n",
      "Subgradient Descent(96/199): loss=2637.8819662635797, w0=63.02079207920796, w1=5.25705719205664\n",
      "Subgradient Descent(97/199): loss=2573.5308483165263, w0=63.38118811881192, w1=5.560434316352406\n",
      "Subgradient Descent(98/199): loss=2509.4902155287346, w0=63.74158415841588, w1=5.863811440648173\n",
      "Subgradient Descent(99/199): loss=2445.7274698440365, w0=64.08811881188123, w1=6.172402175278548\n",
      "Subgradient Descent(100/199): loss=2383.725663674424, w0=64.42772277227726, w1=6.486369310516498\n",
      "Subgradient Descent(101/199): loss=2321.998442518578, w0=64.7673267326733, w1=6.800336445754448\n",
      "Subgradient Descent(102/199): loss=2260.2712213627324, w0=65.10693069306933, w1=7.114303580992399\n",
      "Subgradient Descent(103/199): loss=2198.5440002068867, w0=65.44653465346536, w1=7.428270716230349\n",
      "Subgradient Descent(104/199): loss=2138.087868479267, w0=65.76534653465349, w1=7.747893210218626\n",
      "Subgradient Descent(105/199): loss=2079.754939932426, w0=66.070297029703, w1=8.073669686866905\n",
      "Subgradient Descent(106/199): loss=2022.2931204067152, w0=66.37524752475251, w1=8.399446163515185\n",
      "Subgradient Descent(107/199): loss=1965.0730339869624, w0=66.6663366336634, w1=8.73297028041739\n",
      "Subgradient Descent(108/199): loss=1908.5213431467469, w0=66.9574257425743, w1=9.066494397319596\n",
      "Subgradient Descent(109/199): loss=1852.5503030275274, w0=67.23465346534658, w1=9.39863031947029\n",
      "Subgradient Descent(110/199): loss=1798.5385384941105, w0=67.51188118811886, w1=9.730766241620982\n",
      "Subgradient Descent(111/199): loss=1744.5267739606936, w0=67.78910891089114, w1=10.062902163771675\n",
      "Subgradient Descent(112/199): loss=1691.9826879010798, w0=68.06633663366343, w1=10.363999289979422\n",
      "Subgradient Descent(113/199): loss=1644.3892494278025, w0=68.32970297029709, w1=10.660466909273612\n",
      "Subgradient Descent(114/199): loss=1599.5459893226493, w0=68.59306930693076, w1=10.943174379960814\n",
      "Subgradient Descent(115/199): loss=1556.466505132154, w0=68.85643564356442, w1=11.225881850648015\n",
      "Subgradient Descent(116/199): loss=1513.7265578980853, w0=69.11287128712878, w1=11.504395843582206\n",
      "Subgradient Descent(117/199): loss=1472.5784659601702, w0=69.35544554455453, w1=11.78820189306775\n",
      "Subgradient Descent(118/199): loss=1433.6412752278718, w0=69.58415841584166, w1=12.060911465190971\n",
      "Subgradient Descent(119/199): loss=1397.8208695231226, w0=69.80594059405948, w1=12.324245668386048\n",
      "Subgradient Descent(120/199): loss=1363.6158525177216, w0=70.0277227722773, w1=12.587579871581125\n",
      "Subgradient Descent(121/199): loss=1330.1184517827442, w0=70.25643564356443, w1=12.824765405096484\n",
      "Subgradient Descent(122/199): loss=1298.9293418222567, w0=70.47821782178225, w1=13.065616959310148\n",
      "Subgradient Descent(123/199): loss=1268.1704393418513, w0=70.69306930693077, w1=13.302953389983912\n",
      "Subgradient Descent(124/199): loss=1238.9999925111913, w0=70.89405940594067, w1=13.525403099312918\n",
      "Subgradient Descent(125/199): loss=1213.179841265292, w0=71.08811881188126, w1=13.742945617944212\n",
      "Subgradient Descent(126/199): loss=1188.7744086950902, w0=71.27524752475254, w1=13.953548196006844\n",
      "Subgradient Descent(127/199): loss=1165.8703209584712, w0=71.46237623762383, w1=14.164150774069476\n",
      "Subgradient Descent(128/199): loss=1144.7667364816316, w0=71.62178217821788, w1=14.349779559473173\n",
      "Subgradient Descent(129/199): loss=1128.5188067306153, w0=71.75346534653471, w1=14.51689010761231\n",
      "Subgradient Descent(130/199): loss=1115.8172580563983, w0=71.87128712871292, w1=14.670791185324186\n",
      "Subgradient Descent(131/199): loss=1106.9789291355582, w0=71.95445544554461, w1=14.780276456654521\n",
      "Subgradient Descent(132/199): loss=1101.523776707409, w0=72.0376237623763, w1=14.889761727984856\n",
      "Subgradient Descent(133/199): loss=1096.333311434307, w0=72.10693069306937, w1=14.985916181776727\n",
      "Subgradient Descent(134/199): loss=1092.279134027916, w0=72.17623762376245, w1=15.082070635568597\n",
      "Subgradient Descent(135/199): loss=1088.2249566215253, w0=72.24554455445552, w1=15.178225089360467\n",
      "Subgradient Descent(136/199): loss=1084.8330776284165, w0=72.30099009900998, w1=15.25972348971591\n",
      "Subgradient Descent(137/199): loss=1082.1961177136175, w0=72.34950495049513, w1=15.335091856448138\n",
      "Subgradient Descent(138/199): loss=1079.8777113325618, w0=72.39801980198028, w1=15.410460223180365\n",
      "Subgradient Descent(139/199): loss=1077.8143612225294, w0=72.43267326732682, w1=15.469961786755725\n",
      "Subgradient Descent(140/199): loss=1076.668869914003, w0=72.46039603960405, w1=15.51864528583281\n",
      "Subgradient Descent(141/199): loss=1075.7866385111915, w0=72.48811881188128, w1=15.561592159086487\n",
      "Subgradient Descent(142/199): loss=1075.0796987583713, w0=72.5019801980199, w1=15.597828332032526\n",
      "Subgradient Descent(143/199): loss=1074.662484547909, w0=72.52277227722782, w1=15.624722856626713\n",
      "Subgradient Descent(144/199): loss=1074.3326135494844, w0=72.55049504950505, w1=15.642690329098\n",
      "Subgradient Descent(145/199): loss=1074.0824898101596, w0=72.56435643564366, w1=15.664356578291091\n",
      "Subgradient Descent(146/199): loss=1073.914122686212, w0=72.58514851485158, w1=15.677095775361284\n",
      "Subgradient Descent(147/199): loss=1073.742538778561, w0=72.6059405940595, w1=15.689834972431477\n",
      "Subgradient Descent(148/199): loss=1073.5709548709096, w0=72.62673267326743, w1=15.70257416950167\n",
      "Subgradient Descent(149/199): loss=1073.4031299462777, w0=72.64059405940604, w1=15.72424041869476\n",
      "Subgradient Descent(150/199): loss=1073.2365538680194, w0=72.66138613861396, w1=15.736979615764954\n",
      "Subgradient Descent(151/199): loss=1073.1003234829263, w0=72.66831683168327, w1=15.74811029423128\n",
      "Subgradient Descent(152/199): loss=1073.0507104044586, w0=72.67524752475258, w1=15.759240972697606\n",
      "Subgradient Descent(153/199): loss=1073.001097325991, w0=72.68217821782189, w1=15.770371651163932\n",
      "Subgradient Descent(154/199): loss=1072.9600803518836, w0=72.68217821782189, w1=15.774323911906686\n",
      "Subgradient Descent(155/199): loss=1072.955572760847, w0=72.68217821782189, w1=15.77827617264944\n",
      "Subgradient Descent(156/199): loss=1072.9510651698104, w0=72.68217821782189, w1=15.782228433392193\n",
      "Subgradient Descent(157/199): loss=1072.9465575787735, w0=72.68217821782189, w1=15.786180694134947\n",
      "Subgradient Descent(158/199): loss=1072.942049987737, w0=72.68217821782189, w1=15.7901329548777\n",
      "Subgradient Descent(159/199): loss=1072.9375423967, w0=72.68217821782189, w1=15.794085215620454\n",
      "Subgradient Descent(160/199): loss=1072.9330348056635, w0=72.68217821782189, w1=15.798037476363207\n",
      "Subgradient Descent(161/199): loss=1072.9285272146267, w0=72.68217821782189, w1=15.801989737105961\n",
      "Subgradient Descent(162/199): loss=1072.92401962359, w0=72.68217821782189, w1=15.805941997848715\n",
      "Subgradient Descent(163/199): loss=1072.9195120325533, w0=72.68217821782189, w1=15.809894258591468\n",
      "Subgradient Descent(164/199): loss=1072.9150044415164, w0=72.68217821782189, w1=15.813846519334222\n",
      "Subgradient Descent(165/199): loss=1072.91049685048, w0=72.68217821782189, w1=15.817798780076975\n",
      "Subgradient Descent(166/199): loss=1072.905989259443, w0=72.68217821782189, w1=15.821751040819729\n",
      "Subgradient Descent(167/199): loss=1072.9014816684062, w0=72.68217821782189, w1=15.825703301562482\n",
      "Subgradient Descent(168/199): loss=1072.8969740773698, w0=72.68217821782189, w1=15.829655562305236\n",
      "Subgradient Descent(169/199): loss=1072.892466486333, w0=72.68217821782189, w1=15.83360782304799\n",
      "Subgradient Descent(170/199): loss=1072.8879588952964, w0=72.68217821782189, w1=15.837560083790743\n",
      "Subgradient Descent(171/199): loss=1072.8834513042598, w0=72.68217821782189, w1=15.841512344533497\n",
      "Subgradient Descent(172/199): loss=1072.8789437132227, w0=72.68217821782189, w1=15.84546460527625\n",
      "Subgradient Descent(173/199): loss=1072.8744361221861, w0=72.68217821782189, w1=15.849416866019004\n",
      "Subgradient Descent(174/199): loss=1072.8699285311493, w0=72.68217821782189, w1=15.853369126761757\n",
      "Subgradient Descent(175/199): loss=1072.865420940113, w0=72.68217821782189, w1=15.857321387504511\n",
      "Subgradient Descent(176/199): loss=1072.8609133490759, w0=72.68217821782189, w1=15.861273648247264\n",
      "Subgradient Descent(177/199): loss=1072.8564057580393, w0=72.68217821782189, w1=15.865225908990018\n",
      "Subgradient Descent(178/199): loss=1072.8518981670027, w0=72.68217821782189, w1=15.869178169732772\n",
      "Subgradient Descent(179/199): loss=1072.8473905759658, w0=72.68217821782189, w1=15.873130430475525\n",
      "Subgradient Descent(180/199): loss=1072.842882984929, w0=72.68217821782189, w1=15.877082691218279\n",
      "Subgradient Descent(181/199): loss=1072.8383753938924, w0=72.68217821782189, w1=15.881034951961032\n",
      "Subgradient Descent(182/199): loss=1072.8338678028556, w0=72.68217821782189, w1=15.884987212703786\n",
      "Subgradient Descent(183/199): loss=1072.829360211819, w0=72.68217821782189, w1=15.88893947344654\n",
      "Subgradient Descent(184/199): loss=1072.8248526207824, w0=72.68217821782189, w1=15.892891734189293\n",
      "Subgradient Descent(185/199): loss=1072.8203450297458, w0=72.68217821782189, w1=15.896843994932047\n",
      "Subgradient Descent(186/199): loss=1072.8158374387087, w0=72.68217821782189, w1=15.9007962556748\n",
      "Subgradient Descent(187/199): loss=1072.8113298476724, w0=72.68217821782189, w1=15.904748516417554\n",
      "Subgradient Descent(188/199): loss=1072.8068222566353, w0=72.68217821782189, w1=15.908700777160307\n",
      "Subgradient Descent(189/199): loss=1072.8023146655987, w0=72.68217821782189, w1=15.91265303790306\n",
      "Subgradient Descent(190/199): loss=1072.804568624399, w0=72.67524752475258, w1=15.910526938117323\n",
      "Subgradient Descent(191/199): loss=1072.8002319116263, w0=72.67524752475258, w1=15.914479198860077\n",
      "Subgradient Descent(192/199): loss=1072.7957243205897, w0=72.67524752475258, w1=15.91843145960283\n",
      "Subgradient Descent(193/199): loss=1072.7942524828745, w0=72.66831683168327, w1=15.916305359817093\n",
      "Subgradient Descent(194/199): loss=1072.7936415666175, w0=72.66831683168327, w1=15.920257620559847\n",
      "Subgradient Descent(195/199): loss=1072.7891339755806, w0=72.66831683168327, w1=15.9242098813026\n",
      "Subgradient Descent(196/199): loss=1072.784626384544, w0=72.66831683168327, w1=15.928162142045354\n",
      "Subgradient Descent(197/199): loss=1072.7863611784142, w0=72.66138613861396, w1=15.926036042259616\n",
      "Subgradient Descent(198/199): loss=1072.7825436305716, w0=72.66138613861396, w1=15.92998830300237\n",
      "Subgradient Descent(199/199): loss=1072.778036039535, w0=72.66138613861396, w1=15.933940563745123\n",
      "Subgradient Descent: execution time=0.105 seconds\n"
     ]
    }
   ],
   "source": [
    "# from gradient_descent import *\n",
    "from plots import gradient_descent_visualization\n",
    "\n",
    "# Define the parameters of the algorithm.\n",
    "max_iters = 200\n",
    "# max_iters = 100\n",
    "# gamma = 0.7\n",
    "# gamma = 0.001\n",
    "gamma = 0.7\n",
    "# gamma = 0.1\n",
    "# gamma = 0.5\n",
    "# gamma = 1\n",
    "# gamma = 2\n",
    "# gamma = 2.5\n",
    "\n",
    "# Initialization\n",
    "w_initial = np.array([0, 0])\n",
    "# w_initial = np.array([100, 10])\n",
    "# w_initial = np.array([-1000, 1000])\n",
    "\n",
    "# Start gradient descent.\n",
    "start_time = datetime.datetime.now()\n",
    "subgradient_losses, subgradient_ws = subgradient_descent(y, tx, w_initial, max_iters, gamma)\n",
    "end_time = datetime.datetime.now()\n",
    "\n",
    "# Print result\n",
    "exection_time = (end_time - start_time).total_seconds()\n",
    "print(\"Subgradient Descent: execution time={t:.3f} seconds\".format(t=exection_time))"
   ]
  },
  {
   "cell_type": "code",
   "execution_count": 167,
   "metadata": {},
   "outputs": [
    {
     "data": {
      "application/vnd.jupyter.widget-view+json": {
       "model_id": "",
       "version_major": 2,
       "version_minor": 0
      },
      "text/plain": [
       "interactive(children=(IntSlider(value=1, description='n_iter', max=201, min=1), Output()), _dom_classes=('widg…"
      ]
     },
     "metadata": {},
     "output_type": "display_data"
    },
    {
     "data": {
      "text/plain": [
       "<function __main__.plot_figure(n_iter)>"
      ]
     },
     "execution_count": 167,
     "metadata": {},
     "output_type": "execute_result"
    }
   ],
   "source": [
    "# Time Visualization\n",
    "from ipywidgets import IntSlider, interact\n",
    "\n",
    "def plot_figure(n_iter):\n",
    "    fig = gradient_descent_visualization(\n",
    "        subgradient_losses, subgradient_ws, grid_losses, grid_w0, grid_w1, mean_x, std_x, height, weight, n_iter)\n",
    "    fig.set_size_inches(10.0, 6.0)\n",
    "\n",
    "interact(plot_figure, n_iter=IntSlider(min=1, max=len(subgradient_ws)))"
   ]
  },
  {
   "cell_type": "markdown",
   "metadata": {},
   "source": [
    "#### SGD using MAE loss function"
   ]
  },
  {
   "cell_type": "code",
   "execution_count": 168,
   "metadata": {},
   "outputs": [
    {
     "name": "stdout",
     "output_type": "stream",
     "text": [
      "Subgradient Descent(0/199): loss=14961.69678269513, w0=0.7, w1=6.109524327590712e-16\n",
      "Subgradient Descent(1/199): loss=14820.296782695132, w0=1.4, w1=1.2219048655181425e-15\n",
      "Subgradient Descent(2/199): loss=14678.89678269513, w0=2.0999999999999996, w1=1.832857298277214e-15\n",
      "Subgradient Descent(3/199): loss=14537.496782695129, w0=2.8, w1=2.443809731036285e-15\n",
      "Subgradient Descent(4/199): loss=14396.096782695127, w0=3.5, w1=3.054762163795356e-15\n",
      "Subgradient Descent(5/199): loss=14254.69678269513, w0=4.2, w1=3.665714596554428e-15\n",
      "Subgradient Descent(6/199): loss=14113.296782695132, w0=4.9, w1=4.276667029313499e-15\n",
      "Subgradient Descent(7/199): loss=13971.896782695128, w0=5.6000000000000005, w1=4.887619462072571e-15\n",
      "Subgradient Descent(8/199): loss=13830.496782695127, w0=6.300000000000001, w1=5.498571894831642e-15\n",
      "Subgradient Descent(9/199): loss=13689.096782695127, w0=7.000000000000001, w1=6.109524327590714e-15\n",
      "Subgradient Descent(10/199): loss=13547.69678269513, w0=7.700000000000001, w1=6.720476760349785e-15\n",
      "Subgradient Descent(11/199): loss=13406.296782695128, w0=8.4, w1=7.331429193108857e-15\n",
      "Subgradient Descent(12/199): loss=13264.896782695128, w0=9.1, w1=7.942381625867928e-15\n",
      "Subgradient Descent(13/199): loss=13123.496782695125, w0=9.799999999999999, w1=8.553334058627e-15\n",
      "Subgradient Descent(14/199): loss=12982.096782695127, w0=10.499999999999998, w1=9.164286491386072e-15\n",
      "Subgradient Descent(15/199): loss=12840.69678269513, w0=11.199999999999998, w1=9.775238924145143e-15\n",
      "Subgradient Descent(16/199): loss=12699.296782695128, w0=11.899999999999997, w1=1.0386191356904215e-14\n",
      "Subgradient Descent(17/199): loss=12557.896782695128, w0=12.599999999999996, w1=1.0997143789663286e-14\n",
      "Subgradient Descent(18/199): loss=12416.496782695127, w0=13.299999999999995, w1=1.1608096222422358e-14\n",
      "Subgradient Descent(19/199): loss=12275.096782695131, w0=13.999999999999995, w1=1.2219048655181429e-14\n",
      "Subgradient Descent(20/199): loss=12133.69678269513, w0=14.699999999999994, w1=1.28300010879405e-14\n",
      "Subgradient Descent(21/199): loss=11992.296782695132, w0=15.399999999999993, w1=1.3440953520699572e-14\n",
      "Subgradient Descent(22/199): loss=11850.89678269513, w0=16.099999999999994, w1=1.4051905953458644e-14\n",
      "Subgradient Descent(23/199): loss=11709.496782695129, w0=16.799999999999994, w1=1.4662858386217714e-14\n",
      "Subgradient Descent(24/199): loss=11568.096782695131, w0=17.499999999999993, w1=1.5273810818976784e-14\n",
      "Subgradient Descent(25/199): loss=11426.69678269513, w0=18.199999999999992, w1=1.5884763251735854e-14\n",
      "Subgradient Descent(26/199): loss=11285.296782695132, w0=18.89999999999999, w1=1.6495715684494924e-14\n",
      "Subgradient Descent(27/199): loss=11143.89678269513, w0=19.59999999999999, w1=1.7106668117253994e-14\n",
      "Subgradient Descent(28/199): loss=11002.496782695129, w0=20.29999999999999, w1=1.7717620550013064e-14\n",
      "Subgradient Descent(29/199): loss=10861.096782695131, w0=20.99999999999999, w1=1.8328572982772134e-14\n",
      "Subgradient Descent(30/199): loss=10719.696782695131, w0=21.69999999999999, w1=1.8939525415531204e-14\n",
      "Subgradient Descent(31/199): loss=10578.296782695132, w0=22.399999999999988, w1=1.9550477848290273e-14\n",
      "Subgradient Descent(32/199): loss=10436.89678269513, w0=23.099999999999987, w1=2.0161430281049343e-14\n",
      "Subgradient Descent(33/199): loss=10295.496782695129, w0=23.799999999999986, w1=2.0772382713808413e-14\n",
      "Subgradient Descent(34/199): loss=10154.096782695131, w0=24.499999999999986, w1=2.1383335146567483e-14\n",
      "Subgradient Descent(35/199): loss=10012.696782695133, w0=25.199999999999985, w1=2.1994287579326553e-14\n",
      "Subgradient Descent(36/199): loss=9871.296782695132, w0=25.899999999999984, w1=2.2605240012085623e-14\n",
      "Subgradient Descent(37/199): loss=9729.89678269513, w0=26.599999999999984, w1=2.3216192444844693e-14\n",
      "Subgradient Descent(38/199): loss=9588.496782695129, w0=27.299999999999983, w1=2.3827144877603763e-14\n",
      "Subgradient Descent(39/199): loss=9447.096782695133, w0=27.999999999999982, w1=2.4438097310362833e-14\n",
      "Subgradient Descent(40/199): loss=9305.696782695133, w0=28.69999999999998, w1=2.5049049743121903e-14\n",
      "Subgradient Descent(41/199): loss=9164.296782695132, w0=29.39999999999998, w1=2.5660002175880973e-14\n",
      "Subgradient Descent(42/199): loss=9022.896782695132, w0=30.09999999999998, w1=2.6270954608640043e-14\n",
      "Subgradient Descent(43/199): loss=8881.496782695132, w0=30.79999999999998, w1=2.6881907041399113e-14\n",
      "Subgradient Descent(44/199): loss=8740.096782695135, w0=31.49999999999998, w1=2.7492859474158183e-14\n",
      "Subgradient Descent(45/199): loss=8598.696782695133, w0=32.19999999999998, w1=2.8103811906917253e-14\n",
      "Subgradient Descent(46/199): loss=8457.296782695132, w0=32.899999999999984, w1=2.871476433967632e-14\n",
      "Subgradient Descent(47/199): loss=8315.896782695132, w0=33.59999999999999, w1=2.9325716772435396e-14\n",
      "Subgradient Descent(48/199): loss=8174.496782695129, w0=34.29999999999999, w1=2.993666920519447e-14\n",
      "Subgradient Descent(49/199): loss=8033.09678269513, w0=34.99999999999999, w1=3.054762163795354e-14\n",
      "Subgradient Descent(50/199): loss=7891.6967826951295, w0=35.699999999999996, w1=3.1158574070712615e-14\n",
      "Subgradient Descent(51/199): loss=7750.296782695128, w0=36.4, w1=3.176952650347169e-14\n",
      "Subgradient Descent(52/199): loss=7608.89678269513, w0=37.1, w1=3.238047893623076e-14\n",
      "Subgradient Descent(53/199): loss=7467.496782695128, w0=37.800000000000004, w1=3.2991431368989835e-14\n",
      "Subgradient Descent(54/199): loss=7326.096782695127, w0=38.50000000000001, w1=3.360238380174891e-14\n",
      "Subgradient Descent(55/199): loss=7184.696782695128, w0=39.20000000000001, w1=3.421333623450798e-14\n",
      "Subgradient Descent(56/199): loss=7043.296782695126, w0=39.90000000000001, w1=3.4824288667267054e-14\n",
      "Subgradient Descent(57/199): loss=6901.896782695127, w0=40.600000000000016, w1=3.543524110002613e-14\n",
      "Subgradient Descent(58/199): loss=6760.496782695125, w0=41.30000000000002, w1=3.60461935327852e-14\n",
      "Subgradient Descent(59/199): loss=6619.096782695124, w0=42.00000000000002, w1=3.6657145965544273e-14\n",
      "Subgradient Descent(60/199): loss=6477.696782695124, w0=42.700000000000024, w1=3.7268098398303347e-14\n",
      "Subgradient Descent(61/199): loss=6336.296782695123, w0=43.40000000000003, w1=3.787905083106242e-14\n",
      "Subgradient Descent(62/199): loss=6194.896782695123, w0=44.10000000000003, w1=3.849000326382149e-14\n",
      "Subgradient Descent(63/199): loss=6053.496782695123, w0=44.80000000000003, w1=3.9100955696580566e-14\n",
      "Subgradient Descent(64/199): loss=5912.096782695121, w0=45.500000000000036, w1=3.971190812933964e-14\n",
      "Subgradient Descent(65/199): loss=5770.69678269512, w0=46.20000000000004, w1=4.032286056209871e-14\n",
      "Subgradient Descent(66/199): loss=5629.296782695121, w0=46.90000000000004, w1=4.0933812994857785e-14\n",
      "Subgradient Descent(67/199): loss=5489.000582353121, w0=47.59306930693074, w1=0.011147845678271063\n",
      "Subgradient Descent(68/199): loss=5351.071215877742, w0=48.279207920792125, w1=0.03308574108989941\n",
      "Subgradient Descent(69/199): loss=5215.076889199575, w0=48.96534653465351, w1=0.05502363650152776\n",
      "Subgradient Descent(70/199): loss=5081.317965800603, w0=49.63069306930698, w1=0.10538326388307814\n",
      "Subgradient Descent(71/199): loss=4953.868889606745, w0=50.28910891089114, w1=0.16746568532793435\n",
      "Subgradient Descent(72/199): loss=4827.65765989919, w0=50.947524752475296, w1=0.22954810677279056\n",
      "Subgradient Descent(73/199): loss=4703.447370982743, w0=51.59207920792084, w1=0.31242512932747524\n",
      "Subgradient Descent(74/199): loss=4582.749041724734, w0=52.22277227722777, w1=0.4119501328839991\n",
      "Subgradient Descent(75/199): loss=4465.466049067391, w0=52.84653465346539, w1=0.5208167847923756\n",
      "Subgradient Descent(76/199): loss=4350.639403257703, w0=53.4564356435644, w1=0.6457900912635992\n",
      "Subgradient Descent(77/199): loss=4239.24065467495, w0=54.0594059405941, w1=0.7796904498577214\n",
      "Subgradient Descent(78/199): loss=4130.00330919733, w0=54.655445544554496, w1=0.9197570104995693\n",
      "Subgradient Descent(79/199): loss=4022.205852109486, w0=55.24455445544559, w1=1.0670920297849913\n",
      "Subgradient Descent(80/199): loss=3916.7081062937723, w0=55.819801980198065, w1=1.2261255948210765\n",
      "Subgradient Descent(81/199): loss=3815.373791007969, w0=56.36732673267331, w1=1.410709342622213\n",
      "Subgradient Descent(82/199): loss=3720.024021374555, w0=56.900990099009945, w1=1.605853732220269\n",
      "Subgradient Descent(83/199): loss=3626.889505694158, w0=57.42772277227727, w1=1.808762802293962\n",
      "Subgradient Descent(84/199): loss=3536.1630466291244, w0=57.933663366336674, w1=2.0285064197514697\n",
      "Subgradient Descent(85/199): loss=3449.141400240186, w0=58.43267326732677, w1=2.2494370848672776\n",
      "Subgradient Descent(86/199): loss=3363.8993940970004, w0=58.91089108910895, w1=2.4837982986028337\n",
      "Subgradient Descent(87/199): loss=3282.205227762339, w0=59.382178217821824, w1=2.7260245553531504\n",
      "Subgradient Descent(88/199): loss=3201.51925295614, w0=59.83960396039608, w1=2.978742333469136\n",
      "Subgradient Descent(89/199): loss=3124.3177978287285, w0=60.262376237623805, w1=3.251528669355438\n",
      "Subgradient Descent(90/199): loss=3051.8755135454676, w0=60.67821782178222, w1=3.5270865794242794\n",
      "Subgradient Descent(91/199): loss=2980.489061876412, w0=61.087128712871326, w1=3.806459183951815\n",
      "Subgradient Descent(92/199): loss=2909.7148502472965, w0=61.49603960396043, w1=4.085831788479351\n",
      "Subgradient Descent(93/199): loss=2839.2689796817103, w0=61.891089108910926, w1=4.373839384328607\n",
      "Subgradient Descent(94/199): loss=2770.3534241443385, w0=62.27920792079211, w1=4.666037469532047\n",
      "Subgradient Descent(95/199): loss=2703.009734071399, w0=62.65346534653469, w1=4.959829093241769\n",
      "Subgradient Descent(96/199): loss=2637.8819662635797, w0=63.02079207920796, w1=5.25705719205664\n",
      "Subgradient Descent(97/199): loss=2573.5308483165263, w0=63.38118811881192, w1=5.560434316352406\n",
      "Subgradient Descent(98/199): loss=2509.4902155287346, w0=63.74158415841588, w1=5.863811440648173\n",
      "Subgradient Descent(99/199): loss=2445.7274698440365, w0=64.08811881188123, w1=6.172402175278548\n",
      "Subgradient Descent(100/199): loss=2383.725663674424, w0=64.42772277227726, w1=6.486369310516498\n",
      "Subgradient Descent(101/199): loss=2321.998442518578, w0=64.7673267326733, w1=6.800336445754448\n",
      "Subgradient Descent(102/199): loss=2260.2712213627324, w0=65.10693069306933, w1=7.114303580992399\n",
      "Subgradient Descent(103/199): loss=2198.5440002068867, w0=65.44653465346536, w1=7.428270716230349\n",
      "Subgradient Descent(104/199): loss=2138.087868479267, w0=65.76534653465349, w1=7.747893210218626\n",
      "Subgradient Descent(105/199): loss=2079.754939932426, w0=66.070297029703, w1=8.073669686866905\n",
      "Subgradient Descent(106/199): loss=2022.2931204067152, w0=66.37524752475251, w1=8.399446163515185\n",
      "Subgradient Descent(107/199): loss=1965.0730339869624, w0=66.6663366336634, w1=8.73297028041739\n",
      "Subgradient Descent(108/199): loss=1908.5213431467469, w0=66.9574257425743, w1=9.066494397319596\n",
      "Subgradient Descent(109/199): loss=1852.5503030275274, w0=67.23465346534658, w1=9.39863031947029\n",
      "Subgradient Descent(110/199): loss=1798.5385384941105, w0=67.51188118811886, w1=9.730766241620982\n",
      "Subgradient Descent(111/199): loss=1744.5267739606936, w0=67.78910891089114, w1=10.062902163771675\n",
      "Subgradient Descent(112/199): loss=1691.9826879010798, w0=68.06633663366343, w1=10.363999289979422\n",
      "Subgradient Descent(113/199): loss=1644.3892494278025, w0=68.32970297029709, w1=10.660466909273612\n",
      "Subgradient Descent(114/199): loss=1599.5459893226493, w0=68.59306930693076, w1=10.943174379960814\n",
      "Subgradient Descent(115/199): loss=1556.466505132154, w0=68.85643564356442, w1=11.225881850648015\n",
      "Subgradient Descent(116/199): loss=1513.7265578980853, w0=69.11287128712878, w1=11.504395843582206\n",
      "Subgradient Descent(117/199): loss=1472.5784659601702, w0=69.35544554455453, w1=11.78820189306775\n",
      "Subgradient Descent(118/199): loss=1433.6412752278718, w0=69.58415841584166, w1=12.060911465190971\n",
      "Subgradient Descent(119/199): loss=1397.8208695231226, w0=69.80594059405948, w1=12.324245668386048\n",
      "Subgradient Descent(120/199): loss=1363.6158525177216, w0=70.0277227722773, w1=12.587579871581125\n",
      "Subgradient Descent(121/199): loss=1330.1184517827442, w0=70.25643564356443, w1=12.824765405096484\n",
      "Subgradient Descent(122/199): loss=1298.9293418222567, w0=70.47821782178225, w1=13.065616959310148\n",
      "Subgradient Descent(123/199): loss=1268.1704393418513, w0=70.69306930693077, w1=13.302953389983912\n",
      "Subgradient Descent(124/199): loss=1238.9999925111913, w0=70.89405940594067, w1=13.525403099312918\n",
      "Subgradient Descent(125/199): loss=1213.179841265292, w0=71.08811881188126, w1=13.742945617944212\n",
      "Subgradient Descent(126/199): loss=1188.7744086950902, w0=71.27524752475254, w1=13.953548196006844\n",
      "Subgradient Descent(127/199): loss=1165.8703209584712, w0=71.46237623762383, w1=14.164150774069476\n",
      "Subgradient Descent(128/199): loss=1144.7667364816316, w0=71.62178217821788, w1=14.349779559473173\n",
      "Subgradient Descent(129/199): loss=1128.5188067306153, w0=71.75346534653471, w1=14.51689010761231\n",
      "Subgradient Descent(130/199): loss=1115.8172580563983, w0=71.87128712871292, w1=14.670791185324186\n",
      "Subgradient Descent(131/199): loss=1106.9789291355582, w0=71.95445544554461, w1=14.780276456654521\n",
      "Subgradient Descent(132/199): loss=1101.523776707409, w0=72.0376237623763, w1=14.889761727984856\n",
      "Subgradient Descent(133/199): loss=1096.333311434307, w0=72.10693069306937, w1=14.985916181776727\n",
      "Subgradient Descent(134/199): loss=1092.279134027916, w0=72.17623762376245, w1=15.082070635568597\n",
      "Subgradient Descent(135/199): loss=1088.2249566215253, w0=72.24554455445552, w1=15.178225089360467\n",
      "Subgradient Descent(136/199): loss=1084.8330776284165, w0=72.30099009900998, w1=15.25972348971591\n",
      "Subgradient Descent(137/199): loss=1082.1961177136175, w0=72.34950495049513, w1=15.335091856448138\n",
      "Subgradient Descent(138/199): loss=1079.8777113325618, w0=72.39801980198028, w1=15.410460223180365\n",
      "Subgradient Descent(139/199): loss=1077.8143612225294, w0=72.43267326732682, w1=15.469961786755725\n",
      "Subgradient Descent(140/199): loss=1076.668869914003, w0=72.46039603960405, w1=15.51864528583281\n",
      "Subgradient Descent(141/199): loss=1075.7866385111915, w0=72.48811881188128, w1=15.561592159086487\n",
      "Subgradient Descent(142/199): loss=1075.0796987583713, w0=72.5019801980199, w1=15.597828332032526\n",
      "Subgradient Descent(143/199): loss=1074.662484547909, w0=72.52277227722782, w1=15.624722856626713\n",
      "Subgradient Descent(144/199): loss=1074.3326135494844, w0=72.55049504950505, w1=15.642690329098\n",
      "Subgradient Descent(145/199): loss=1074.0824898101596, w0=72.56435643564366, w1=15.664356578291091\n",
      "Subgradient Descent(146/199): loss=1073.914122686212, w0=72.58514851485158, w1=15.677095775361284\n",
      "Subgradient Descent(147/199): loss=1073.742538778561, w0=72.6059405940595, w1=15.689834972431477\n",
      "Subgradient Descent(148/199): loss=1073.5709548709096, w0=72.62673267326743, w1=15.70257416950167\n",
      "Subgradient Descent(149/199): loss=1073.4031299462777, w0=72.64059405940604, w1=15.72424041869476\n",
      "Subgradient Descent(150/199): loss=1073.2365538680194, w0=72.66138613861396, w1=15.736979615764954\n",
      "Subgradient Descent(151/199): loss=1073.1003234829263, w0=72.66831683168327, w1=15.74811029423128\n",
      "Subgradient Descent(152/199): loss=1073.0507104044586, w0=72.67524752475258, w1=15.759240972697606\n",
      "Subgradient Descent(153/199): loss=1073.001097325991, w0=72.68217821782189, w1=15.770371651163932\n",
      "Subgradient Descent(154/199): loss=1072.9600803518836, w0=72.68217821782189, w1=15.774323911906686\n",
      "Subgradient Descent(155/199): loss=1072.955572760847, w0=72.68217821782189, w1=15.77827617264944\n",
      "Subgradient Descent(156/199): loss=1072.9510651698104, w0=72.68217821782189, w1=15.782228433392193\n",
      "Subgradient Descent(157/199): loss=1072.9465575787735, w0=72.68217821782189, w1=15.786180694134947\n",
      "Subgradient Descent(158/199): loss=1072.942049987737, w0=72.68217821782189, w1=15.7901329548777\n",
      "Subgradient Descent(159/199): loss=1072.9375423967, w0=72.68217821782189, w1=15.794085215620454\n",
      "Subgradient Descent(160/199): loss=1072.9330348056635, w0=72.68217821782189, w1=15.798037476363207\n",
      "Subgradient Descent(161/199): loss=1072.9285272146267, w0=72.68217821782189, w1=15.801989737105961\n",
      "Subgradient Descent(162/199): loss=1072.92401962359, w0=72.68217821782189, w1=15.805941997848715\n",
      "Subgradient Descent(163/199): loss=1072.9195120325533, w0=72.68217821782189, w1=15.809894258591468\n",
      "Subgradient Descent(164/199): loss=1072.9150044415164, w0=72.68217821782189, w1=15.813846519334222\n",
      "Subgradient Descent(165/199): loss=1072.91049685048, w0=72.68217821782189, w1=15.817798780076975\n",
      "Subgradient Descent(166/199): loss=1072.905989259443, w0=72.68217821782189, w1=15.821751040819729\n",
      "Subgradient Descent(167/199): loss=1072.9014816684062, w0=72.68217821782189, w1=15.825703301562482\n",
      "Subgradient Descent(168/199): loss=1072.8969740773698, w0=72.68217821782189, w1=15.829655562305236\n",
      "Subgradient Descent(169/199): loss=1072.892466486333, w0=72.68217821782189, w1=15.83360782304799\n",
      "Subgradient Descent(170/199): loss=1072.8879588952964, w0=72.68217821782189, w1=15.837560083790743\n",
      "Subgradient Descent(171/199): loss=1072.8834513042598, w0=72.68217821782189, w1=15.841512344533497\n",
      "Subgradient Descent(172/199): loss=1072.8789437132227, w0=72.68217821782189, w1=15.84546460527625\n",
      "Subgradient Descent(173/199): loss=1072.8744361221861, w0=72.68217821782189, w1=15.849416866019004\n",
      "Subgradient Descent(174/199): loss=1072.8699285311493, w0=72.68217821782189, w1=15.853369126761757\n",
      "Subgradient Descent(175/199): loss=1072.865420940113, w0=72.68217821782189, w1=15.857321387504511\n",
      "Subgradient Descent(176/199): loss=1072.8609133490759, w0=72.68217821782189, w1=15.861273648247264\n",
      "Subgradient Descent(177/199): loss=1072.8564057580393, w0=72.68217821782189, w1=15.865225908990018\n",
      "Subgradient Descent(178/199): loss=1072.8518981670027, w0=72.68217821782189, w1=15.869178169732772\n",
      "Subgradient Descent(179/199): loss=1072.8473905759658, w0=72.68217821782189, w1=15.873130430475525\n",
      "Subgradient Descent(180/199): loss=1072.842882984929, w0=72.68217821782189, w1=15.877082691218279\n",
      "Subgradient Descent(181/199): loss=1072.8383753938924, w0=72.68217821782189, w1=15.881034951961032\n",
      "Subgradient Descent(182/199): loss=1072.8338678028556, w0=72.68217821782189, w1=15.884987212703786\n",
      "Subgradient Descent(183/199): loss=1072.829360211819, w0=72.68217821782189, w1=15.88893947344654\n",
      "Subgradient Descent(184/199): loss=1072.8248526207824, w0=72.68217821782189, w1=15.892891734189293\n",
      "Subgradient Descent(185/199): loss=1072.8203450297458, w0=72.68217821782189, w1=15.896843994932047\n",
      "Subgradient Descent(186/199): loss=1072.8158374387087, w0=72.68217821782189, w1=15.9007962556748\n",
      "Subgradient Descent(187/199): loss=1072.8113298476724, w0=72.68217821782189, w1=15.904748516417554\n",
      "Subgradient Descent(188/199): loss=1072.8068222566353, w0=72.68217821782189, w1=15.908700777160307\n",
      "Subgradient Descent(189/199): loss=1072.8023146655987, w0=72.68217821782189, w1=15.91265303790306\n",
      "Subgradient Descent(190/199): loss=1072.804568624399, w0=72.67524752475258, w1=15.910526938117323\n",
      "Subgradient Descent(191/199): loss=1072.8002319116263, w0=72.67524752475258, w1=15.914479198860077\n",
      "Subgradient Descent(192/199): loss=1072.7957243205897, w0=72.67524752475258, w1=15.91843145960283\n",
      "Subgradient Descent(193/199): loss=1072.7942524828745, w0=72.66831683168327, w1=15.916305359817093\n",
      "Subgradient Descent(194/199): loss=1072.7936415666175, w0=72.66831683168327, w1=15.920257620559847\n",
      "Subgradient Descent(195/199): loss=1072.7891339755806, w0=72.66831683168327, w1=15.9242098813026\n",
      "Subgradient Descent(196/199): loss=1072.784626384544, w0=72.66831683168327, w1=15.928162142045354\n",
      "Subgradient Descent(197/199): loss=1072.7863611784142, w0=72.66138613861396, w1=15.926036042259616\n",
      "Subgradient Descent(198/199): loss=1072.7825436305716, w0=72.66138613861396, w1=15.92998830300237\n",
      "Subgradient Descent(199/199): loss=1072.778036039535, w0=72.66138613861396, w1=15.933940563745123\n",
      "Subgradient Descent: execution time=0.129 seconds\n"
     ]
    }
   ],
   "source": [
    "# from gradient_descent import *\n",
    "from plots import gradient_descent_visualization\n",
    "\n",
    "# Define the parameters of the algorithm.\n",
    "max_iters = 200\n",
    "# max_iters = 100\n",
    "# gamma = 0.7\n",
    "# gamma = 0.001\n",
    "gamma = 0.7\n",
    "# gamma = 0.1\n",
    "# gamma = 0.5\n",
    "# gamma = 1\n",
    "# gamma = 2\n",
    "# gamma = 2.5\n",
    "\n",
    "# Initialization\n",
    "w_initial = np.array([0, 0])\n",
    "# w_initial = np.array([100, 10])\n",
    "# w_initial = np.array([-1000, 1000])\n",
    "\n",
    "# Start gradient descent.\n",
    "start_time = datetime.datetime.now()\n",
    "subgradient_losses, subgradient_ws = stochastic_subgradient_descent(y, tx, w_initial, max_iters, gamma)\n",
    "end_time = datetime.datetime.now()\n",
    "\n",
    "# Print result\n",
    "exection_time = (end_time - start_time).total_seconds()\n",
    "print(\"Subgradient Descent: execution time={t:.3f} seconds\".format(t=exection_time))"
   ]
  },
  {
   "cell_type": "code",
   "execution_count": 169,
   "metadata": {},
   "outputs": [
    {
     "data": {
      "application/vnd.jupyter.widget-view+json": {
       "model_id": "bc9e36c502e049fcb6524135e3eeb048",
       "version_major": 2,
       "version_minor": 0
      },
      "text/plain": [
       "interactive(children=(IntSlider(value=1, description='n_iter', max=201, min=1), Output()), _dom_classes=('widg…"
      ]
     },
     "metadata": {},
     "output_type": "display_data"
    },
    {
     "data": {
      "text/plain": [
       "<function __main__.plot_figure(n_iter)>"
      ]
     },
     "execution_count": 169,
     "metadata": {},
     "output_type": "execute_result"
    }
   ],
   "source": [
    "# Time Visualization\n",
    "from ipywidgets import IntSlider, interact\n",
    "\n",
    "def plot_figure(n_iter):\n",
    "    fig = gradient_descent_visualization(\n",
    "        subgradient_losses, subgradient_ws, grid_losses, grid_w0, grid_w1, mean_x, std_x, height, weight, n_iter)\n",
    "    fig.set_size_inches(10.0, 6.0)\n",
    "\n",
    "interact(plot_figure, n_iter=IntSlider(min=1, max=len(subgradient_ws)))"
   ]
  },
  {
   "cell_type": "code",
   "execution_count": null,
   "metadata": {},
   "outputs": [],
   "source": []
  }
 ],
 "metadata": {
  "anaconda-cloud": {},
  "kernelspec": {
   "display_name": "Python 3",
   "language": "python",
   "name": "python3"
  },
  "language_info": {
   "codemirror_mode": {
    "name": "ipython",
    "version": 3
   },
   "file_extension": ".py",
   "mimetype": "text/x-python",
   "name": "python",
   "nbconvert_exporter": "python",
   "pygments_lexer": "ipython3",
   "version": "3.6.9"
  },
  "varInspector": {
   "cols": {
    "lenName": 16,
    "lenType": 16,
    "lenVar": 40
   },
   "kernels_config": {
    "python": {
     "delete_cmd_postfix": "",
     "delete_cmd_prefix": "del ",
     "library": "var_list.py",
     "varRefreshCmd": "print(var_dic_list())"
    },
    "r": {
     "delete_cmd_postfix": ") ",
     "delete_cmd_prefix": "rm(",
     "library": "var_list.r",
     "varRefreshCmd": "cat(var_dic_list()) "
    }
   },
   "types_to_exclude": [
    "module",
    "function",
    "builtin_function_or_method",
    "instance",
    "_Feature"
   ],
   "window_display": false
  }
 },
 "nbformat": 4,
 "nbformat_minor": 1
}
